{
 "cells": [
  {
   "cell_type": "code",
   "execution_count": null,
   "metadata": {
    "collapsed": true
   },
   "outputs": [],
   "source": [
    "import numpy as np \n",
    "import torch \n",
    "from torch import nn\n",
    "from torch.autograd import Variable \n",
    "import torch.nn.functional as F\n",
    "import matplotlib.pyplot as plt\n",
    "%matplotlib inline "
   ]
  },
  {
   "cell_type": "markdown",
   "metadata": {},
   "source": [
    "### Rodrigues rotation numpy"
   ]
  },
  {
   "cell_type": "code",
   "execution_count": null,
   "metadata": {
    "collapsed": true
   },
   "outputs": [],
   "source": [
    "def Lx(n = 1):\n",
    "    R = np.array([[0,0,0],\n",
    "                  [0,0,-1],\n",
    "                  [0,1,0]], dtype = np.float32)\n",
    "    return np.tile(R, (n,1,1))\n",
    "\n",
    "def Ly(n = 1):\n",
    "    R = np.array([[0,0,1],\n",
    "                  [0,0,0],\n",
    "                  [-1,0,0]], dtype = np.float32)\n",
    "    return np.tile(R, (n,1,1))\n",
    "\n",
    "def Lz(n = 1):\n",
    "    R = np.array([[0,-1,0],\n",
    "                  [1,0,0],\n",
    "                  [0,0,0]], dtype = np.float32)\n",
    "    return np.tile(R, (n,1,1))\n",
    "\n",
    "def LieAlgebra(v):\n",
    "    assert v.shape[-1] == 3\n",
    "    n = v.shape[0]\n",
    "    R = Lx(n)*v[:,0,np.newaxis,np.newaxis] + \\\n",
    "        Ly(n)*v[:,1,np.newaxis,np.newaxis] + \\\n",
    "        Lz(n)*v[:,2,np.newaxis,np.newaxis]\n",
    "    return R"
   ]
  },
  {
   "cell_type": "code",
   "execution_count": null,
   "metadata": {
    "collapsed": true
   },
   "outputs": [],
   "source": [
    "def rodrigues(u, r):\n",
    "    assert u.shape[-1] == 3\n",
    "    #assert r.shape[-1] == 1\n",
    "    n = u.shape[0]\n",
    "    r = r.reshape([-1,1,1])\n",
    "    K = LieAlgebra(u)\n",
    "    I = np.tile(np.identity(3), (n,1,1))\n",
    "    R = np.cos(r)*I + np.sin(r)*K + (1-np.cos(r))*np.expand_dims(u,-1)@np.expand_dims(u,-2)\n",
    "    R = I + np.sin(r)*K + (1-np.cos(r))*K@K\n",
    "    return R"
   ]
  },
  {
   "cell_type": "code",
   "execution_count": null,
   "metadata": {
    "collapsed": true
   },
   "outputs": [],
   "source": [
    "u = np.array([[1,0,0], [2/5,3/5,0]])\n",
    "r = np.array([[0.1],[0.3]])\n",
    "R = rodrigues(u,r)[1,:,:]"
   ]
  },
  {
   "cell_type": "code",
   "execution_count": null,
   "metadata": {
    "collapsed": true
   },
   "outputs": [],
   "source": [
    "a = np.array([[0,1,0], [1,1,0]])\n",
    "LieAlgebra(a).shape"
   ]
  },
  {
   "cell_type": "code",
   "execution_count": null,
   "metadata": {
    "collapsed": true
   },
   "outputs": [],
   "source": [
    "a[:,0,np.newaxis,np.newaxis]"
   ]
  },
  {
   "cell_type": "code",
   "execution_count": null,
   "metadata": {
    "collapsed": true
   },
   "outputs": [],
   "source": [
    "u1 = np.expand_dims(u,-1)\n",
    "u2 = np.expand_dims(u,-2)"
   ]
  },
  {
   "cell_type": "code",
   "execution_count": null,
   "metadata": {
    "collapsed": true
   },
   "outputs": [],
   "source": [
    "u2@u1"
   ]
  },
  {
   "cell_type": "code",
   "execution_count": null,
   "metadata": {
    "collapsed": true
   },
   "outputs": [],
   "source": [
    "R@R.T"
   ]
  },
  {
   "cell_type": "code",
   "execution_count": null,
   "metadata": {
    "collapsed": true
   },
   "outputs": [],
   "source": [
    "R"
   ]
  },
  {
   "cell_type": "code",
   "execution_count": null,
   "metadata": {
    "collapsed": true
   },
   "outputs": [],
   "source": []
  }
 ],
 "metadata": {
  "anaconda-cloud": {},
  "kernelspec": {
   "display_name": "Python 3",
   "language": "python",
   "name": "python3"
  },
  "language_info": {
   "codemirror_mode": {
    "name": "ipython",
    "version": 3
   },
   "file_extension": ".py",
   "mimetype": "text/x-python",
   "name": "python",
   "nbconvert_exporter": "python",
   "pygments_lexer": "ipython3",
   "version": "3.6.1"
  }
 },
 "nbformat": 4,
 "nbformat_minor": 1
}
