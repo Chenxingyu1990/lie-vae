{
 "cells": [
  {
   "cell_type": "code",
   "execution_count": 12,
   "metadata": {},
   "outputs": [],
   "source": [
    "import numpy as np \n",
    "import math\n",
    "\n",
    "import torch \n",
    "from torch import nn\n",
    "from torch.autograd import Variable \n",
    "from torch import Tensor as t\n",
    "import torch.nn.functional as F\n",
    "from torch.distributions import Normal\n",
    "\n",
    "import matplotlib.pyplot as plt\n",
    "%matplotlib inline "
   ]
  },
  {
   "cell_type": "markdown",
   "metadata": {},
   "source": [
    "#### Utils"
   ]
  },
  {
   "cell_type": "code",
   "execution_count": 53,
   "metadata": {
    "collapsed": true
   },
   "outputs": [],
   "source": [
    "def n2p(x, requires_grad = True):\n",
    "    \"\"\"converts numpy tensor to pytorch variable\"\"\"\n",
    "    return Variable(t(x), requires_grad)\n",
    "\n",
    "def t2c(x):\n",
    "    return x.cuda()\n",
    "\n",
    "# https://github.com/pytorch/pytorch/issues/2591\n",
    "def logsumexp(inputs, dim=None, keepdim=False):\n",
    "    \"\"\"Numerically stable logsumexp.\n",
    "\n",
    "    Args:\n",
    "        inputs: A Variable with any shape.\n",
    "        dim: An integer.\n",
    "        keepdim: A boolean.\n",
    "\n",
    "    Returns:\n",
    "        Equivalent of log(sum(exp(inputs), dim=dim, keepdim=keepdim)).\n",
    "    \"\"\"\n",
    "    # For a 1-D array x (any array along a single dimension),\n",
    "    # log sum exp(x) = s + log sum exp(x - s)\n",
    "    # with s = max(x) being a common choice.\n",
    "    if dim is None:\n",
    "        inputs = inputs.view(-1)\n",
    "        dim = 0\n",
    "    s, _ = torch.max(inputs, dim=dim, keepdim=True)\n",
    "    outputs = s + (inputs - s).exp().sum(dim=dim, keepdim=True).log()\n",
    "    if not keepdim:\n",
    "        outputs = outputs.squeeze(dim)\n",
    "    return outputs"
   ]
  },
  {
   "cell_type": "markdown",
   "metadata": {},
   "source": [
    "#### MLP outputs $L$, $\\epsilon$ and $\\mu$"
   ]
  },
  {
   "cell_type": "code",
   "execution_count": null,
   "metadata": {
    "collapsed": true
   },
   "outputs": [],
   "source": []
  },
  {
   "cell_type": "markdown",
   "metadata": {},
   "source": [
    "#### Convert outputs in $\\mathbb{R}^3$ to Lie algebra"
   ]
  },
  {
   "cell_type": "code",
   "execution_count": 3,
   "metadata": {},
   "outputs": [],
   "source": [
    "def map2LieAlgebra(v):\n",
    "    \"\"\"Map a point in R^N to the tangent space at the identity, i.e. \n",
    "    to the Lie Algebra\n",
    "    Arg:\n",
    "        v = vector in R^N, (..., 3) in our case\n",
    "    Return:\n",
    "        R = v converted to Lie Algebra element, (3,3) in our case\"\"\"\n",
    "    \n",
    "    # make sure this is a sample from R^3\n",
    "    assert v.size()[-1] == 3\n",
    "    \n",
    "    R_x = n2p(np.array([[ 0., 0., 0.],\n",
    "                        [ 0., 0.,-1.],\n",
    "                        [ 0., 1., 0.]]))\n",
    "    \n",
    "    R_y = n2p(np.array([[ 0., 0., 1.],\n",
    "                        [ 0., 0., 0.],\n",
    "                        [-1., 0., 0.]]))\n",
    "    \n",
    "    R_z = n2p(np.array([[ 0.,-1., 0.],\n",
    "                        [ 1., 0., 0.],\n",
    "                        [ 0., 0., 0.]]))\n",
    "    \n",
    "    R = R_x * v[..., 0, None, None] \n",
    "    R += \\\n",
    "        R_y * v[..., 1, None, None] + \\\n",
    "        R_z * v[..., 2, None, None]\n",
    "    return R\n",
    "\n",
    "# x = Normal(t([0., 0., 0.]), t([1., 1., 1.])).sample_n(3)\n",
    "# v = Variable(x)\n",
    "# l = map2LieAlgebra(v)"
   ]
  },
  {
   "cell_type": "markdown",
   "metadata": {},
   "source": [
    "#### Use a exponential map, $exp(\\cdot)$, to convert elements of Lie algebra to Lie group"
   ]
  },
  {
   "cell_type": "code",
   "execution_count": 16,
   "metadata": {},
   "outputs": [],
   "source": [
    "def rodrigues(v):\n",
    "    theta = v.norm(p=2,dim=-1, keepdim=True)\n",
    "    # normalize K\n",
    "    K = map2LieAlgebra(v/theta)\n",
    "    \n",
    "    I = Variable(torch.eye(3))\n",
    "    R = I + torch.sin(theta)[...,None]*K + (1. - torch.cos(theta))[...,None]*(K@K)\n",
    "    a = torch.sin(theta)[...,None]\n",
    "    return R\n",
    "\n",
    "x = Normal(t([0., 0., 0.]), t([1., 1., 1.])).sample_n(2)\n",
    "v = Variable(x)\n",
    "# R = rodrigues(v)"
   ]
  },
  {
   "cell_type": "code",
   "execution_count": 83,
   "metadata": {},
   "outputs": [
    {
     "name": "stdout",
     "output_type": "stream",
     "text": [
      "Variable containing:\n",
      "-25.1124\n",
      "-20.5559\n",
      "[torch.FloatTensor of size 2]\n",
      "\n"
     ]
    }
   ],
   "source": [
    "def log_density(v, L, D, k = 5):\n",
    "    theta = v.norm(p=2,dim=-1, keepdim=True)\n",
    "    u = v / theta\n",
    "    angles = Variable(torch.arange(-k, k+1) * 2 * math.pi)\n",
    "    theta_hat = theta[...,None] + angles\n",
    "    x = u[...,None] * theta_hat\n",
    "    \n",
    "    L_hat = L - Variable(torch.eye(3))\n",
    "    L_inv = Variable(torch.eye(3)) - L_hat + L_hat@L_hat\n",
    "    D_inv = 1. / D\n",
    "    A = L_inv @ x\n",
    "    \n",
    "    p = -0.5*(A * D_inv[...,None] * A).sum(-2)\n",
    "    p = logsumexp(p, -1)\n",
    "    p += -0.5*(torch.log(D.prod(-1)) + v.size()[-1]*math.log(2.*math.pi))*(2*k + 1)\n",
    "    print (p)\n",
    "    \n",
    "    \n",
    "x = Normal(t([0., 0., 0.]), t([1., 1., 1.])).sample_n(2)\n",
    "v = Variable(x)\n",
    "L = Variable((torch.rand(3,3).tril(-1) + torch.eye(3)).repeat(2, 1, 1))\n",
    "D = Variable(torch.rand(2, 3))\n",
    "log_density(v, L, D)"
   ]
  },
  {
   "cell_type": "code",
   "execution_count": null,
   "metadata": {
    "collapsed": true
   },
   "outputs": [],
   "source": []
  }
 ],
 "metadata": {
  "kernelspec": {
   "display_name": "Python 3",
   "language": "python",
   "name": "python3"
  },
  "language_info": {
   "codemirror_mode": {
    "name": "ipython",
    "version": 3
   },
   "file_extension": ".py",
   "mimetype": "text/x-python",
   "name": "python",
   "nbconvert_exporter": "python",
   "pygments_lexer": "ipython3",
   "version": "3.6.1"
  }
 },
 "nbformat": 4,
 "nbformat_minor": 2
}
