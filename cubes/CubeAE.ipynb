{
 "cells": [
  {
   "cell_type": "code",
   "execution_count": null,
   "metadata": {},
   "outputs": [],
   "source": [
    "import os,sys,inspect\n",
    "currentdir = os.path.dirname(os.path.abspath(inspect.getfile(inspect.currentframe())))\n",
    "parentdir = os.path.dirname(currentdir)\n",
    "sys.path.insert(0,parentdir) "
   ]
  },
  {
   "cell_type": "code",
   "execution_count": null,
   "metadata": {},
   "outputs": [],
   "source": [
    "import os\n",
    "import torch\n",
    "from torch.autograd import Variable\n",
    "import torch.nn as nn\n",
    "import torch.nn.functional as F\n",
    "import torch.utils.data as data_utils\n",
    "from torch.utils.data.dataset import Dataset\n",
    "import numpy as np\n",
    "import matplotlib.pyplot as plt\n",
    "import argparse\n",
    "import math\n",
    "\n",
    "from glob import glob\n",
    "from torch.utils.data import Dataset, DataLoader\n",
    "import os.path\n",
    "from PIL import Image\n",
    "from lie_learn.groups.SO3 import change_coordinates as SO3_coordinates\n",
    "from tensorboardX import SummaryWriter\n",
    "\n",
    "from lie_vae.vae import VAE\n",
    "from lie_vae.reparameterize import Nreparameterize, SO3reparameterize, N0reparameterize\n",
    "from lie_vae.utils import MLP, random_split, View, Flatten\n",
    "from lie_vae.lie_tools import group_matrix_to_eazyz, block_wigner_matrix_multiply\n",
    "from lie_vae.datasets import CubeDataset\n",
    "from lie_vae.nets import CubesDeconvNet, CubesConvNet\n",
    "from lie_vae.decoders import ActionNet, MLPNet\n",
    "\n",
    "\n",
    "CUDA = torch.cuda.is_available()\n",
    "device = torch.device('cuda:0' if torch.cuda.is_available() else 'cpu')"
   ]
  },
  {
   "cell_type": "code",
   "execution_count": null,
   "metadata": {},
   "outputs": [],
   "source": [
    "parser = argparse.ArgumentParser()\n",
    "\n",
    "parser.add_argument('--latent', '-z', type=str, default='so3', help='normal or so3')\n",
    "parser.add_argument('--decoder', '-d', type=str, default='action', help='mlp or action')\n",
    "parser.add_argument('--epochs', '-e', type=int, default=200, help='')\n",
    "parser.add_argument('--load', '-l', type=str, default='', help='')\n",
    "parser.add_argument('--save', '-s', type=str, default='', help='')\n",
    "parser.add_argument('--batch_dim', '-b', type=int, default=32, help='')\n",
    "\n",
    "FLAGS, unparsed = parser.parse_known_args()"
   ]
  },
  {
   "cell_type": "code",
   "execution_count": null,
   "metadata": {},
   "outputs": [],
   "source": [
    "class ConvAE(nn.Module):\n",
    "    def __init__(self):\n",
    "        super(ConvAE, self).__init__()\n",
    "        \n",
    "        ndf = 16\n",
    "        self.encoder = nn.Sequential(\n",
    "            CubesConvNet(),\n",
    "            nn.Linear(ndf * 4, 3)\n",
    "        )\n",
    "\n",
    "        deconv = CubesDeconvNet((6+1)**2 * 100, 50)\n",
    "        if FLAGS.decoder == \"mlp\":\n",
    "            if FLAGS.latent == \"so3\":\n",
    "                self.decoder = MLPNet(in_dims=9, degrees=6, rep_copies=100, deconv=deconv)\n",
    "            elif FLAGS.latent == \"normal\":\n",
    "                self.decoder = MLPNet(in_dims=3, degrees=6, rep_copies=100, deconv=deconv)\n",
    "        elif FLAGS.decoder == \"action\":\n",
    "            self.decoder = ActionNet(6, rep_copies=100, with_mlp=True, deconv=deconv)\n",
    "        \n",
    "    def forward(self,x):\n",
    "        lie_algebra_el = self.encoder(x)\n",
    "        \n",
    "        if FLAGS.decoder == \"action\":\n",
    "            if FLAGS.latent == \"so3\":\n",
    "                group_el = SO3reparameterize._expmap_rodrigues(lie_algebra_el)\n",
    "                angles = group_matrix_to_eazyz(group_el)\n",
    "            elif FLAGS.latent == \"normal\":\n",
    "                angles = F.tanh(lie_algebra_el)\n",
    "                angles = angles * torch.tensor([[math.pi, math.pi / 2, math.pi]], device=device) + \\\n",
    "                    torch.tensor([[0, math.pi / 2, 0]], device=device)\n",
    "\n",
    "    #         angles = group_matrix_to_quaternions(group_el)\n",
    "            x_recon = self.decoder(angles)\n",
    "        \n",
    "        elif FLAGS.decoder == \"mlp\":\n",
    "            if FLAGS.latent == \"so3\":\n",
    "                out = SO3reparameterize._expmap_rodrigues(lie_algebra_el)\n",
    "            elif FLAGS.latent == \"normal\":\n",
    "                out = lie_algebra_el\n",
    "                \n",
    "            x_recon = self.decoder(out)\n",
    "        return x_recon\n",
    "    \n",
    "    def recon_loss(self, x_recon, x):\n",
    "        x = x.expand_as(x_recon)\n",
    "        max_val = (-x_recon).clamp(min=0)\n",
    "        loss = x_recon - x_recon * x + max_val + ((-max_val).exp() + (-x_recon - max_val).exp()).log() \n",
    "        \n",
    "        return loss.sum(-1).sum(-1).sum(-1)"
   ]
  },
  {
   "cell_type": "code",
   "execution_count": null,
   "metadata": {},
   "outputs": [],
   "source": [
    "train_dataset = CubeDataset('train')\n",
    "dev_dataset = CubeDataset('dev')\n",
    "test_dataset = CubeDataset('test')\n",
    "\n",
    "train_loader = data_utils.DataLoader(train_dataset, batch_size=FLAGS.batch_dim, shuffle=True)\n",
    "dev_loader = data_utils.DataLoader(dev_dataset, batch_size=FLAGS.batch_dim, shuffle=True)\n",
    "test_loader = data_utils.DataLoader(test_dataset, batch_size=FLAGS.batch_dim, shuffle=True)"
   ]
  },
  {
   "cell_type": "code",
   "execution_count": null,
   "metadata": {},
   "outputs": [],
   "source": [
    "model = ConvAE().cuda() if CUDA else ConvAE()\n",
    "\n",
    "if FLAGS.load != '':\n",
    "    model = torch.load(FLAGS.load)\n",
    "    \n",
    "optimizer = torch.optim.Adam(model.parameters())"
   ]
  },
  {
   "cell_type": "code",
   "execution_count": null,
   "metadata": {},
   "outputs": [],
   "source": [
    "print (\"training {} with {}\".format(FLAGS.latent, FLAGS.decoder))\n",
    "for j in range(FLAGS.epochs):\n",
    "    for i, (images, _) in enumerate(train_loader):\n",
    "        images = Variable(images).cuda() if CUDA else Variable(images)\n",
    "\n",
    "        optimizer.zero_grad()\n",
    "        \n",
    "        images_recon = model(images)\n",
    "        \n",
    "#         loss = (images_recon - images).pow(2).sum(-1).sum(-1).sum(-1).mean()\n",
    "        loss = model.recon_loss(images_recon, images).mean()\n",
    "        loss.backward()\n",
    "        optimizer.step()\n",
    "        print('\\r epoch: {:4}/{:4}, it: {:4}/{:4}: loss: {:.4f},'.format(\n",
    "                j, FLAGS.epochs, i, len(train_loader),\n",
    "                float(loss.data.cpu().numpy())),\n",
    "            end='')\n",
    "\n",
    "    if FLAGS.save != '':\n",
    "        torch.save(model, FLAGS.save)\n",
    "        \n",
    "    loss = np.array([model.recon_loss(model(Variable(images).cuda() if CUDA else Variable(images)), \n",
    "                           Variable(images).cuda() if CUDA else Variable(images)).mean().data.cpu().numpy()\n",
    "         for i, (images, _) in enumerate(dev_loader)]).mean()\n",
    "    \n",
    "    print('\\r epoch: {:4}/{:4}, it: {:4}/{:4}: loss: {:.4f},'.format(\n",
    "                j, FLAGS.epochs, i, len(train_loader), loss))"
   ]
  },
  {
   "cell_type": "code",
   "execution_count": null,
   "metadata": {},
   "outputs": [],
   "source": [
    "loss = np.array([model.recon_loss(model(Variable(images).cuda() if CUDA else Variable(images)), \n",
    "                           Variable(images).cuda() if CUDA else Variable(images)).mean().data.cpu().numpy()\n",
    " for i, (images, _) in enumerate(test_loader)]).mean()\n",
    "print(\"TEST LOSS --> {}\".format(loss))"
   ]
  },
  {
   "cell_type": "code",
   "execution_count": null,
   "metadata": {},
   "outputs": [],
   "source": [
    "img = Variable(next(iter(train_loader))[0][0:1])\n",
    "rec_img = model(img.cuda())\n",
    "\n",
    "plt.imshow(img.data.cpu().numpy()[0].transpose(1, 2, 0))\n",
    "plt.show()\n",
    "plt.imshow(F.sigmoid(rec_img).data.cpu().numpy()[0].transpose(1, 2, 0))\n",
    "plt.show()"
   ]
  },
  {
   "cell_type": "markdown",
   "metadata": {
    "collapsed": true
   },
   "source": [
    "## Continuity checks"
   ]
  },
  {
   "cell_type": "code",
   "execution_count": null,
   "metadata": {},
   "outputs": [],
   "source": [
    "# degrees = 3\n",
    "# matrix_dims = (degrees + 1) ** 2\n",
    "# in_dims = 2\n",
    "# item_rep = nn.Parameter(torch.randn((matrix_dims, in_dims)))"
   ]
  },
  {
   "cell_type": "code",
   "execution_count": null,
   "metadata": {},
   "outputs": [],
   "source": [
    "# N = 1000\n",
    "# x0 = np.random.normal(0,0.001,(N+1,3))\n",
    "# print(x0.shape)\n",
    "# x0 = np.cumsum(np.cumsum(x0,-2), -2)\n",
    "# print(x0.shape)\n",
    "# x0 = torch.tensor(x0, dtype = torch.float32)\n",
    "# group_el = SO3reparameterize._expmap_rodrigues(x0)\n",
    "# angles = group_matrix_to_eazyz(group_el)\n",
    "\n",
    "\n",
    "# plt.plot(angles.detach().numpy()[:,0], \"o\", color = \"b\")\n",
    "# plt.show()\n",
    "# plt.plot(angles.detach().numpy()[:,1], \"o\", color = \"b\")\n",
    "# plt.show()\n",
    "# plt.plot(angles.detach().numpy()[:,2], \"o\", color = \"b\")\n",
    "# plt.show()"
   ]
  },
  {
   "cell_type": "code",
   "execution_count": null,
   "metadata": {},
   "outputs": [],
   "source": [
    "\n",
    "# n = angles.size(0)\n",
    "# item_expanded = item_rep.expand(n, -1, -1)\n",
    "# item = block_wigner_matrix_multiply(angles, item_expanded, degrees) \\\n",
    "#             .view(-1, matrix_dims * in_dims)\n",
    "\n",
    "# i = np.random.randint(item.shape[1])\n",
    "   \n",
    "# plt.plot(item.detach().numpy()[:,i], \"o\", color = \"b\")\n",
    "# plt.show()\n"
   ]
  }
 ],
 "metadata": {
  "kernelspec": {
   "display_name": "lie",
   "language": "python",
   "name": "lie"
  },
  "language_info": {
   "codemirror_mode": {
    "name": "ipython",
    "version": 3
   },
   "file_extension": ".py",
   "mimetype": "text/x-python",
   "name": "python",
   "nbconvert_exporter": "python",
   "pygments_lexer": "ipython3",
   "version": "3.6.5"
  }
 },
 "nbformat": 4,
 "nbformat_minor": 2
}
