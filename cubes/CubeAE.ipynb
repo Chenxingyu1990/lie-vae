{
 "cells": [
  {
   "cell_type": "code",
   "execution_count": null,
   "metadata": {
    "collapsed": true
   },
   "outputs": [],
   "source": [
    "import os\n",
    "import torch\n",
    "from torch.autograd import Variable\n",
    "import torch.nn as nn\n",
    "import torch.nn.functional as F\n",
    "import torch.utils.data as data_utils\n",
    "import numpy as np\n",
    "import matplotlib.pyplot as plt\n",
    "import argparse\n",
    "\n",
    "from vae import VAE\n",
    "from reparameterize import Nreparameterize, SO3reparameterize, N0reparameterize\n",
    "\n",
    "from torch.utils.data.dataset import Dataset\n",
    "\n",
    "CUDA = torch.cuda.is_available()"
   ]
  },
  {
   "cell_type": "code",
   "execution_count": null,
   "metadata": {
    "collapsed": true
   },
   "outputs": [],
   "source": [
    "from glob import glob\n",
    "from torch.utils.data import Dataset, DataLoader\n",
    "import os.path\n",
    "from PIL import Image\n",
    "from lie_learn.groups.SO3 import change_coordinates as SO3_coordinates\n",
    "from tensorboardX import SummaryWriter\n",
    "\n",
    "\n",
    "import os,sys,inspect\n",
    "currentdir = os.path.dirname(os.path.abspath(inspect.getfile(inspect.currentframe())))\n",
    "parentdir = os.path.dirname(currentdir)\n",
    "sys.path.insert(0,parentdir) \n",
    "\n",
    "from utils import MLP, random_split\n",
    "from lie_tools import group_matrix_to_eazyz, block_wigner_matrix_multiply"
   ]
  },
  {
   "cell_type": "code",
   "execution_count": null,
   "metadata": {
    "collapsed": true
   },
   "outputs": [],
   "source": [
    "parser = argparse.ArgumentParser()\n",
    "\n",
    "parser.add_argument('--latent', '-z', type=str, default='so3', help='')\n",
    "parser.add_argument('--epochs', '-e', type=int, default=10, help='')\n",
    "parser.add_argument('--load', '-l', type=str, default='', help='')\n",
    "parser.add_argument('--save', '-s', type=str, default='', help='')\n",
    "parser.add_argument('--batch_dim', '-b', type=int, default=64, help='')\n",
    "\n",
    "FLAGS, unparsed = parser.parse_known_args()"
   ]
  },
  {
   "cell_type": "code",
   "execution_count": null,
   "metadata": {
    "collapsed": true
   },
   "outputs": [],
   "source": [
    "class DeconvNet(nn.Sequential):\n",
    "    \"\"\"1x1 to 32x32 deconvolutional stack.\"\"\"\n",
    "    def __init__(self, in_dims, hidden_dims):\n",
    "        super().__init__(\n",
    "            nn.ConvTranspose2d(in_dims, hidden_dims, 4, 1, 0),\n",
    "            nn.ReLU(),\n",
    "            nn.ConvTranspose2d(hidden_dims, hidden_dims, 4, 2, 1),\n",
    "            nn.ReLU(),\n",
    "            nn.ConvTranspose2d(hidden_dims, hidden_dims, 4, 2, 1),\n",
    "            nn.ReLU(),\n",
    "            nn.ConvTranspose2d(hidden_dims, 3, 4, 2, 1),\n",
    "\n",
    "        )\n",
    "        \n",
    "class ActionNet(nn.Module):\n",
    "    \"\"\"Uses proper group action.\"\"\"\n",
    "    def __init__(self, degrees, in_dims=10, with_mlp=False):\n",
    "        super().__init__()\n",
    "        self.degrees = degrees\n",
    "        self.in_dims = in_dims\n",
    "        self.matrix_dims = (degrees + 1) ** 2\n",
    "        self.item_rep = nn.Parameter(torch.randn((self.matrix_dims, in_dims)))\n",
    "        self.deconv = DeconvNet(self.matrix_dims * self.in_dims, 50)\n",
    "        if with_mlp:\n",
    "            self.mlp = MLP(self.matrix_dims * in_dims,\n",
    "                           self.matrix_dims * in_dims, 50, 3)\n",
    "        else:\n",
    "            self.mlp = None\n",
    "\n",
    "    def forward(self, matrices):\n",
    "        \"\"\"Input dim is [batch, 3, 3].\"\"\"\n",
    "        n = matrices.size(0)\n",
    "        item_expanded = self.item_rep.expand(n, -1, -1)\n",
    "\n",
    "        angles = group_matrix_to_eazyz(matrices)\n",
    "        item = block_wigner_matrix_multiply(angles, item_expanded, self.degrees) \\\n",
    "            .view(-1, self.matrix_dims * self.in_dims)\n",
    "\n",
    "        if self.mlp:\n",
    "            item = self.mlp(item)\n",
    "        out = self.deconv(item[:, :, None, None])\n",
    "        return out[:, :, :, :]"
   ]
  },
  {
   "cell_type": "code",
   "execution_count": null,
   "metadata": {
    "collapsed": true
   },
   "outputs": [],
   "source": [
    "class View(nn.Module):\n",
    "    def __init__(self, *v):\n",
    "        super(View, self).__init__()\n",
    "        self.v = v\n",
    "    \n",
    "    def forward(self, x):\n",
    "        return x.view(*self.v)\n",
    "    \n",
    "class Flatten(nn.Module):\n",
    "    def __init__(self):\n",
    "        super(Flatten, self).__init__()\n",
    "    \n",
    "    def forward(self, x):\n",
    "        return x.view(x.size(0), -1)\n",
    "\n",
    "class ConvAE(nn.Module):\n",
    "    def __init__(self):\n",
    "        super(ConvAE, self).__init__()\n",
    "        \n",
    "        self.encoder = nn.Sequential(\n",
    "            nn.Conv2d(3, 16, 3, padding=1),\n",
    "            nn.ReLU(),\n",
    "            nn.MaxPool2d(2),\n",
    "            nn.Conv2d(16, 32, 3, padding=1),\n",
    "            nn.ReLU(),\n",
    "            nn.MaxPool2d(2),\n",
    "            Flatten(),\n",
    "            nn.Linear(32 * 8 * 8, 256),\n",
    "            nn.ReLU(),\n",
    "            nn.Linear(256, 3),\n",
    "            nn.ReLU()\n",
    "        )\n",
    "\n",
    "        self.decoder = ActionNet(6,10)\n",
    "        \n",
    "        \n",
    "    def forward(self,x):\n",
    "        lie_algebra_el = self.encoder(x)\n",
    "        group_el = SO3reparameterize._expmap_rodrigues(lie_algebra_el)\n",
    "        \n",
    "        x_recon = self.decoder(group_el)\n",
    "        return x_recon\n",
    "    \n",
    "    def recon_loss(self, x_recon, x):\n",
    "        x = x.expand_as(x_recon)\n",
    "        max_val = (-x_recon).clamp(min=0)\n",
    "        loss = x_recon - x_recon * x + max_val + ((-max_val).exp() + (-x_recon - max_val).exp()).log() \n",
    "        \n",
    "        return loss.sum(-1).sum(-1).sum(-1)"
   ]
  },
  {
   "cell_type": "code",
   "execution_count": null,
   "metadata": {},
   "outputs": [],
   "source": [
    "model = ConvAE().cuda() if CUDA else ConvAE()\n",
    "\n",
    "if FLAGS.load != '':\n",
    "    model = torch.load(FLAGS.load)\n",
    "    \n",
    "optimizer = torch.optim.Adam(model.parameters())"
   ]
  },
  {
   "cell_type": "code",
   "execution_count": null,
   "metadata": {},
   "outputs": [],
   "source": [
    "for j in range(FLAGS.epochs):\n",
    "    for i, (images, labels) in enumerate(train_loader):\n",
    "        images = Variable(images).cuda() if CUDA else Variable(images)\n",
    "\n",
    "        optimizer.zero_grad()\n",
    "        \n",
    "        images_recon = model(images)\n",
    "        \n",
    "#         loss = (images_recon - images).pow(2).sum(-1).sum(-1).sum(-1).mean()\n",
    "        loss = model.recon_loss(images_recon, images).mean()\n",
    "        loss.backward()\n",
    "        optimizer.step()\n",
    "        print('\\r epoch: {:4}/{:4}, it: {:4}/{:4}: loss: {:.4f},'.format(\n",
    "                j, FLAGS.epochs, i, len(train_loader),\n",
    "                float(loss.data.cpu().numpy())),\n",
    "            end='')\n",
    "\n",
    "    if FLAGS.save != '':\n",
    "        torch.save(model, FLAGS.save)\n",
    "    \n",
    "    images = Variable(dev_data).cuda() if CUDA else Variable(dev_data)\n",
    "    images_recon = model(images)\n",
    "    \n",
    "#     loss = (images_recon - images).pow(2).sum(-1).sum(-1).sum(-1).mean()\n",
    "    loss = model.recon_loss(images_recon, images).mean()\n",
    "    \n",
    "    print('\\r epoch: {:4}/{:4}, it: {:4}/{:4}: loss: {:.4f},'.format(\n",
    "                j, FLAGS.epochs, i, len(train_loader),\n",
    "                float(loss.data.cpu().numpy())))"
   ]
  },
  {
   "cell_type": "code",
   "execution_count": null,
   "metadata": {},
   "outputs": [],
   "source": [
    "img = Variable(next(iter(train_loader))[0][0:1])\n",
    "rec_img = model(img.cuda())\n",
    "\n",
    "plt.imshow(img.data.cpu().numpy()[0].transpose(1, 2, 0))\n",
    "plt.show()\n",
    "plt.imshow(F.sigmoid(rec_img).data.cpu().numpy()[0].transpose(1, 2, 0))\n",
    "plt.show()"
   ]
  },
  {
   "cell_type": "code",
   "execution_count": null,
   "metadata": {
    "collapsed": true
   },
   "outputs": [],
   "source": []
  }
 ],
 "metadata": {
  "kernelspec": {
   "display_name": "Python [conda env:pytorch3]",
   "language": "python",
   "name": "conda-env-pytorch3-py"
  },
  "language_info": {
   "codemirror_mode": {
    "name": "ipython",
    "version": 3
   },
   "file_extension": ".py",
   "mimetype": "text/x-python",
   "name": "python",
   "nbconvert_exporter": "python",
   "pygments_lexer": "ipython3",
   "version": "3.6.3"
  }
 },
 "nbformat": 4,
 "nbformat_minor": 2
}
