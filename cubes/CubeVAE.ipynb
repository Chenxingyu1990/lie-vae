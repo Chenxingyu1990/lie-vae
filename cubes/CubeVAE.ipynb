{
 "cells": [
  {
   "cell_type": "code",
   "execution_count": null,
   "metadata": {
    "collapsed": true
   },
   "outputs": [],
   "source": [
    "import os\n",
    "import torch\n",
    "from torch.autograd import Variable\n",
    "import torch.nn as nn\n",
    "import torch.nn.functional as F\n",
    "import torch.utils.data as data_utils\n",
    "import numpy as np\n",
    "import matplotlib.pyplot as plt\n",
    "import argparse\n",
    "import math\n",
    "\n",
    "from vae import VAE\n",
    "from reparameterize import Nreparameterize, SO3reparameterize, N0reparameterize\n",
    "\n",
    "from torch.utils.data.dataset import Dataset\n",
    "\n",
    "CUDA = torch.cuda.is_available()\n",
    "device = torch.device('cuda:0' if torch.cuda.is_available() else 'cpu')"
   ]
  },
  {
   "cell_type": "code",
   "execution_count": null,
   "metadata": {
    "collapsed": true
   },
   "outputs": [],
   "source": [
    "from glob import glob\n",
    "from torch.utils.data import Dataset, DataLoader\n",
    "import os.path\n",
    "from PIL import Image\n",
    "from lie_learn.groups.SO3 import change_coordinates as SO3_coordinates\n",
    "from tensorboardX import SummaryWriter\n",
    "\n",
    "\n",
    "import os,sys,inspect\n",
    "currentdir = os.path.dirname(os.path.abspath(inspect.getfile(inspect.currentframe())))\n",
    "parentdir = os.path.dirname(currentdir)\n",
    "sys.path.insert(0,parentdir) \n",
    "\n",
    "from utils import MLP, random_split\n",
    "from lie_tools import group_matrix_to_eazyz, block_wigner_matrix_multiply"
   ]
  },
  {
   "cell_type": "code",
   "execution_count": null,
   "metadata": {
    "collapsed": true
   },
   "outputs": [],
   "source": [
    "parser = argparse.ArgumentParser()\n",
    "\n",
    "parser.add_argument('--latent', '-z', type=str, default='so3', help='normal or so3')\n",
    "parser.add_argument('--decoder', '-d', type=str, default='mlp', help='mlp or action')\n",
    "parser.add_argument('--epochs', '-e', type=int, default=200, help='')\n",
    "parser.add_argument('--load', '-l', type=str, default='', help='')\n",
    "parser.add_argument('--save', '-s', type=str, default='', help='')\n",
    "parser.add_argument('--batch_dim', '-b', type=int, default=32, help='')\n",
    "\n",
    "FLAGS, unparsed = parser.parse_known_args()"
   ]
  },
  {
   "cell_type": "code",
   "execution_count": null,
   "metadata": {
    "collapsed": true
   },
   "outputs": [],
   "source": []
  },
  {
   "cell_type": "code",
   "execution_count": null,
   "metadata": {
    "collapsed": true
   },
   "outputs": [],
   "source": [
    "class DeconvNet(nn.Sequential):\n",
    "    \"\"\"1x1 to 32x32 deconvolutional stack.\"\"\"\n",
    "    def __init__(self, in_dims, hidden_dims):\n",
    "        super().__init__(\n",
    "            nn.Linear(in_dims, 32 * 8 * 8 ),\n",
    "            View(-1, 32, 8, 8),\n",
    "            nn.ReLU(),\n",
    "            nn.Conv2d(32, 32, 3, padding=1),\n",
    "            nn.ReLU(),\n",
    "            nn.Conv2d(32, 32, 3, padding=1),\n",
    "            nn.Upsample(scale_factor=2, mode='nearest'),\n",
    "            nn.ReLU(),\n",
    "            nn.Conv2d(32, 16, 3, padding=1),\n",
    "            nn.Upsample(scale_factor=2, mode='nearest'),\n",
    "            nn.ReLU(),\n",
    "            nn.Conv2d(16, 16, 3, padding=1),\n",
    "            nn.ReLU(),\n",
    "            nn.Conv2d(16, 3, 3, padding=1)\n",
    "        )\n",
    "#         super().__init__(\n",
    "#             nn.ConvTranspose2d(in_dims, hidden_dims, 4, 1, 0),\n",
    "#             nn.ReLU(),\n",
    "#             nn.ConvTranspose2d(hidden_dims, hidden_dims, 4, 2, 1),\n",
    "#             nn.ReLU(),\n",
    "#             nn.ConvTranspose2d(hidden_dims, hidden_dims, 4, 2, 1),\n",
    "#             nn.ReLU(),\n",
    "#             nn.ConvTranspose2d(hidden_dims, 3, 4, 2, 1),\n",
    "\n",
    "#         )\n",
    "        \n",
    "class ActionNet(nn.Module):\n",
    "    \"\"\"Uses proper group action.\"\"\"\n",
    "    def __init__(self, degrees, in_dims=10, with_mlp=False):\n",
    "        super().__init__()\n",
    "        self.degrees = degrees\n",
    "        self.in_dims = in_dims\n",
    "        self.matrix_dims = (degrees + 1) ** 2\n",
    "        self.item_rep = nn.Parameter(torch.randn((self.matrix_dims, in_dims)))\n",
    "        self.deconv = DeconvNet(self.matrix_dims * self.in_dims, 50)\n",
    "        if with_mlp:\n",
    "            self.mlp = MLP(self.matrix_dims * in_dims,\n",
    "                           self.matrix_dims * in_dims, 50, 3)\n",
    "        else:\n",
    "            self.mlp = None\n",
    "\n",
    "    def forward(self, angles):\n",
    "        \"\"\"Input dim is [batch, 3, 3].\"\"\"\n",
    "        n = angles.size(0)\n",
    "        item_expanded = self.item_rep.expand(n, -1, -1)\n",
    "\n",
    "        item = block_wigner_matrix_multiply(angles, item_expanded, self.degrees) \\\n",
    "            .view(-1, self.matrix_dims * self.in_dims)\n",
    "\n",
    "        if self.mlp:\n",
    "            item = self.mlp(item)\n",
    "        out = self.deconv(item[:, :])\n",
    "        return out[:, :, :, :]\n",
    "    \n",
    "class MLPNet(nn.Module):\n",
    "    \"\"\"Uses MLP from group matrix.\"\"\"\n",
    "    def __init__(self, input_dim, degrees, in_dims=10):\n",
    "        super().__init__()\n",
    "        self.input_dim = input_dim\n",
    "        matrix_dims = (degrees + 1) ** 2\n",
    "        self.mlp = MLP(self.input_dim, matrix_dims * in_dims, 50, 3)\n",
    "        self.deconv = DeconvNet(matrix_dims * in_dims, 50)\n",
    "\n",
    "    def forward(self, x):\n",
    "        \"\"\"Input dim is [batch, 3, 3] or [batch, 3].\"\"\"\n",
    "        x = self.mlp(x.view(-1, self.input_dim))\n",
    "        return self.deconv(x[:, :])[:, :, :, :]\n"
   ]
  },
  {
   "cell_type": "code",
   "execution_count": null,
   "metadata": {
    "collapsed": true
   },
   "outputs": [],
   "source": [
    "class View(nn.Module):\n",
    "    def __init__(self, *v):\n",
    "        super(View, self).__init__()\n",
    "        self.v = v\n",
    "    \n",
    "    def forward(self, x):\n",
    "        return x.view(*self.v)\n",
    "    \n",
    "class Flatten(nn.Module):\n",
    "    def __init__(self):\n",
    "        super(Flatten, self).__init__()\n",
    "    \n",
    "    def forward(self, x):\n",
    "        return x.view(x.size(0), -1)\n",
    "\n",
    "#TODO better reparametrization action normal\n",
    "class ConvVAE(VAE):\n",
    "    def __init__(self):\n",
    "        super(ConvVAE, self).__init__()\n",
    "        ndf = 16\n",
    "        self.encoder = nn.Sequential(\n",
    "            # input is (nc) x 32 x 32\n",
    "            nn.Conv2d(3, ndf, 3, 1, 1, bias=False),\n",
    "            nn.LeakyReLU(0.2, inplace=True),\n",
    "            # state size. (ndf) x 32 x 32\n",
    "            nn.Conv2d(ndf, ndf * 2, 4, 2, 1, bias=False),\n",
    "            # nn.BatchNorm2d(ndf * 2),\n",
    "            nn.LeakyReLU(0.2, inplace=True),\n",
    "            # state size. (ndf*2) x 16 x 16\n",
    "            nn.Conv2d(ndf * 2, ndf * 4, 4, 2, 1, bias=False),\n",
    "            # nn.BatchNorm2d(ndf * 4),\n",
    "            nn.LeakyReLU(0.2, inplace=True),\n",
    "            # state size. (ndf*4) x 8 x 8\n",
    "            nn.Conv2d(ndf * 4, ndf * 8, 4, 2, 1, bias=False),\n",
    "            # nn.BatchNorm2d(ndf * 8),\n",
    "            nn.LeakyReLU(0.2, inplace=True),\n",
    "            # state size. (ndf*8) x 4 x 4\n",
    "            nn.Conv2d(ndf * 8, ndf * 8, 4, 1, 0, bias=False),\n",
    "            Flatten(),\n",
    "            nn.LeakyReLU(0.2, inplace=True),\n",
    "            nn.Linear(ndf * 8, ndf * 4),\n",
    "            nn.LeakyReLU(0.2, inplace=True)\n",
    "        )\n",
    "\n",
    "        if FLAGS.decoder == \"mlp\":\n",
    "            if FLAGS.latent == \"so3\":\n",
    "                self.rep0 = SO3reparameterize(N0reparameterize(ndf * 4, z_dim=3), k=10)\n",
    "                self.reparameterize = [self.rep0]\n",
    "                self.r_callback = [torch.nn.Sequential()]\n",
    "                self.decoder = MLPNet(input_dim=9, degrees=6, in_dims=100)\n",
    "            elif FLAGS.latent == \"normal\":\n",
    "                self.rep0 = Nreparameterize(ndf * 4, 3)\n",
    "                self.reparameterize = [self.rep0]\n",
    "                self.r_callback = [torch.nn.Sequential()]\n",
    "                self.decoder = MLPNet(input_dim=3, degrees=6, in_dims=100)\n",
    "        elif FLAGS.decoder == \"action\":\n",
    "            if FLAGS.latent == \"so3\":\n",
    "                self.rep0 = SO3reparameterize(N0reparameterize(ndf * 4, z_dim=3), k=10)\n",
    "                self.reparameterize = [self.rep0]\n",
    "                self.r_callback = [torch.nn.Sequential()]\n",
    "                self.decoder = MLPNet(input_dim=9, degrees=6, in_dims=100)\n",
    "            elif FLAGS.latent == \"normal\":\n",
    "                self.rep0 = Nreparameterize(ndf * 4, 3)\n",
    "                self.reparameterize = [self.rep0]\n",
    "                self.r_callback = [torch.nn.Sequential()]\n",
    "                \n",
    "            self.decoder = ActionNet(6, 10, with_mlp=True)\n",
    "    \n",
    "    def forward(self, x, n=1):\n",
    "        z_list = self.encode(x)\n",
    "        z_pose = z_list[0]\n",
    "        z_pose_ = z_pose.view(-1, *z_pose.shape[2:])\n",
    "        \n",
    "        if FLAGS.decoder == \"action\":\n",
    "            if FLAGS.latent == \"so3\":\n",
    "                angles = group_matrix_to_eazyz(z_pose_)\n",
    "            elif FLAGS.latent == \"normal\":            \n",
    "                angles = F.tanh(z_pose_)\n",
    "                angles = angles * torch.tensor([[math.pi, math.pi / 2, math.pi]], device=device) + \\\n",
    "                    torch.tensor([[0, math.pi / 2, 0]], device=device)\n",
    "    \n",
    "            x_recon = self.decoder(angles).view(*z_pose.shape[:2], 3, 32, 32)\n",
    "        \n",
    "        elif FLAGS.decoder == \"mlp\":\n",
    "            \n",
    "            x_recon = self.decode(z_pose_).view(*z_pose.shape[:2], 3, 32, 32)\n",
    "            \n",
    "        return x_recon\n",
    "    \n",
    "    def recon_loss(self, x_recon, x):\n",
    "        x = x.expand_as(x_recon)\n",
    "        max_val = (-x_recon).clamp(min=0)\n",
    "        loss = x_recon - x_recon * x + max_val + ((-max_val).exp() + (-x_recon - max_val).exp()).log() \n",
    "        \n",
    "        return loss.sum(-1).sum(-1).sum(-1)"
   ]
  },
  {
   "cell_type": "code",
   "execution_count": null,
   "metadata": {
    "collapsed": true
   },
   "outputs": [],
   "source": [
    "train_data = np.load('train_data.npy')\n",
    "dev_data = np.load('dev_data.npy')\n",
    "test_data = np.load('test_data.npy')\n",
    "\n",
    "# train_labels = np.load('train_labels.npy')\n",
    "# dev_labels = np.load('dev_labels.npy')\n",
    "# test_labels = np.load('test_labels.npy')\n",
    "\n",
    "train_data = torch.from_numpy(train_data)\n",
    "# train_labels = torch.from_numpy(train_labels)\n",
    "\n",
    "train_dataset = data_utils.TensorDataset(train_data) # , train_labels)\n",
    "train_loader = data_utils.DataLoader(train_dataset, batch_size=FLAGS.batch_dim, shuffle=True)\n",
    "\n",
    "dev_data = torch.from_numpy(dev_data)\n",
    "# dev_labels = torch.from_numpy(dev_labels)\n",
    "\n",
    "dev_dataset = data_utils.TensorDataset(dev_data) # , dev_labels)\n",
    "dev_loader = data_utils.DataLoader(dev_dataset, batch_size=FLAGS.batch_dim, shuffle=True)\n",
    "\n",
    "test_data = torch.from_numpy(test_data)\n",
    "# test_labels = torch.from_numpy(test_labels)\n",
    "\n",
    "test_dataset = data_utils.TensorDataset(test_data) # , test_labels)\n",
    "test_loader = data_utils.DataLoader(test_dataset, batch_size=FLAGS.batch_dim, shuffle=True)"
   ]
  },
  {
   "cell_type": "code",
   "execution_count": null,
   "metadata": {
    "collapsed": true
   },
   "outputs": [],
   "source": [
    "model = ConvVAE().cuda() if CUDA else ConvVAE()\n",
    "\n",
    "if FLAGS.load != '':\n",
    "    model = torch.load(FLAGS.load)\n",
    "    \n",
    "optimizer = torch.optim.Adam(model.parameters())"
   ]
  },
  {
   "cell_type": "code",
   "execution_count": null,
   "metadata": {},
   "outputs": [],
   "source": [
    "print (\"training {} with {}\".format(FLAGS.latent, FLAGS.decoder))\n",
    "for j in range(FLAGS.epochs):\n",
    "    for i, (images, ) in enumerate(train_loader):\n",
    "        images = Variable(images).cuda() if CUDA else Variable(images)\n",
    "\n",
    "        optimizer.zero_grad()\n",
    "        \n",
    "        loss_recon, loss_kl = model.elbo(images)\n",
    "        \n",
    "        loss_recon = loss_recon.mean()\n",
    "        loss_kl = loss_kl.mean()\n",
    "        loss = loss_recon + loss_kl\n",
    "        \n",
    "        loss.backward()\n",
    "        optimizer.step()\n",
    "        \n",
    "        print('\\r epoch: {:4}/{:4}, it: {:4}/{:4}: ELBO: {:.4f}, recon: {:.4f}, KL: {:.4f}'.format(\n",
    "                j, FLAGS.epochs, i, len(train_loader),\n",
    "                float(loss.data.cpu().numpy()),\n",
    "                float(loss_recon.data.cpu().numpy()),\n",
    "                float(loss_kl.data.cpu().numpy())),\n",
    "            end='')\n",
    "\n",
    "    if FLAGS.save != '':\n",
    "        torch.save(model, FLAGS.save)\n",
    "    \n",
    "    losses = [model.elbo(Variable(images).cuda() if CUDA else Variable(images))\n",
    "     for i, (images, ) in enumerate(dev_loader)]\n",
    "    \n",
    "    loss_recon, loss_kl = np.array([[loss_recon.mean().data.cpu().numpy(), loss_kl.mean().data.cpu().numpy()] \n",
    "                  for loss_recon, loss_kl in losses]).mean(0)\n",
    "    \n",
    "    print('\\r epoch: {:4}/{:4}, it: {:4}/{:4}: ELBO: {:.4f}, recon: {:.4f}, KL: {:.4f}'.format(\n",
    "        j, FLAGS.epochs, i, len(train_loader), loss_recon + loss_kl, loss_recon, loss_kl))"
   ]
  },
  {
   "cell_type": "code",
   "execution_count": null,
   "metadata": {
    "collapsed": true
   },
   "outputs": [],
   "source": [
    "losses = [model.elbo(Variable(images).cuda() if CUDA else Variable(images))\n",
    " for i, (images, ) in enumerate(test_loader)]\n",
    "\n",
    "ll = np.array([model.log_likelihood(Variable(images).cuda() if CUDA else Variable(images), n=500).data.cpu().numpy()\n",
    " for i, (images, ) in enumerate(test_loader)]).mean()\n",
    "\n",
    "loss_recon, loss_kl = np.array([[loss_recon.mean().data.cpu().numpy(), loss_kl.mean().data.cpu().numpy()] \n",
    "              for loss_recon, loss_kl in losses]).mean(0)\n",
    "print(\"TEST VAE CUBES results for {} with {}  ---  {} epochs \".format(FLAGS.latent, FLAGS.decoder, FLAGS.epochs))\n",
    "print('ELBO: {:.4f}, recon: {:.4f}, KL: {:.4f}, LL: {:.4f}'.format(\n",
    "    loss_recon + loss_kl, loss_recon, loss_kl, ll))"
   ]
  },
  {
   "cell_type": "code",
   "execution_count": null,
   "metadata": {
    "collapsed": true
   },
   "outputs": [],
   "source": [
    "img = Variable(next(iter(train_loader))[0][0:1])\n",
    "rec_img = model(img.cuda())\n",
    "\n",
    "plt.imshow(img.data.cpu().numpy()[0].transpose(1, 2, 0))\n",
    "plt.show()\n",
    "plt.imshow(F.sigmoid(rec_img).data.cpu().numpy()[0,0].transpose(1, 2, 0))\n",
    "plt.show()"
   ]
  },
  {
   "cell_type": "markdown",
   "metadata": {
    "collapsed": true
   },
   "source": [
    "## Continuity checks"
   ]
  },
  {
   "cell_type": "code",
   "execution_count": null,
   "metadata": {
    "collapsed": true
   },
   "outputs": [],
   "source": [
    "# degrees = 3\n",
    "# matrix_dims = (degrees + 1) ** 2\n",
    "# in_dims = 2\n",
    "# item_rep = nn.Parameter(torch.randn((matrix_dims, in_dims)))"
   ]
  },
  {
   "cell_type": "code",
   "execution_count": null,
   "metadata": {
    "collapsed": true
   },
   "outputs": [],
   "source": [
    "# N = 1000\n",
    "# x0 = np.random.normal(0,0.001,(N+1,3))\n",
    "# print(x0.shape)\n",
    "# x0 = np.cumsum(np.cumsum(x0,-2), -2)\n",
    "# print(x0.shape)\n",
    "# x0 = torch.tensor(x0, dtype = torch.float32)\n",
    "# group_el = SO3reparameterize._expmap_rodrigues(x0)\n",
    "# angles = group_matrix_to_eazyz(group_el)\n",
    "\n",
    "\n",
    "# plt.plot(angles.detach().numpy()[:,0], \"o\", color = \"b\")\n",
    "# plt.show()\n",
    "# plt.plot(angles.detach().numpy()[:,1], \"o\", color = \"b\")\n",
    "# plt.show()\n",
    "# plt.plot(angles.detach().numpy()[:,2], \"o\", color = \"b\")\n",
    "# plt.show()"
   ]
  },
  {
   "cell_type": "code",
   "execution_count": null,
   "metadata": {
    "collapsed": true
   },
   "outputs": [],
   "source": [
    "\n",
    "# n = angles.size(0)\n",
    "# item_expanded = item_rep.expand(n, -1, -1)\n",
    "# item = block_wigner_matrix_multiply(angles, item_expanded, degrees) \\\n",
    "#             .view(-1, matrix_dims * in_dims)\n",
    "\n",
    "# i = np.random.randint(item.shape[1])\n",
    "   \n",
    "# plt.plot(item.detach().numpy()[:,i], \"o\", color = \"b\")\n",
    "# plt.show()\n"
   ]
  }
 ],
 "metadata": {
  "kernelspec": {
   "display_name": "Python [conda env:pytorch3]",
   "language": "python",
   "name": "conda-env-pytorch3-py"
  },
  "language_info": {
   "codemirror_mode": {
    "name": "ipython",
    "version": 3
   },
   "file_extension": ".py",
   "mimetype": "text/x-python",
   "name": "python",
   "nbconvert_exporter": "python",
   "pygments_lexer": "ipython3",
   "version": "3.6.3"
  }
 },
 "nbformat": 4,
 "nbformat_minor": 2
}
