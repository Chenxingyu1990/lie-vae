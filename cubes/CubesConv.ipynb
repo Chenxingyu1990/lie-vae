{
 "cells": [
  {
   "cell_type": "code",
   "execution_count": null,
   "metadata": {},
   "outputs": [],
   "source": [
    "import os\n",
    "import torch\n",
    "from torch.autograd import Variable\n",
    "import torch.nn as nn\n",
    "import torch.nn.functional as F\n",
    "import torch.utils.data as data_utils\n",
    "import numpy as np\n",
    "import matplotlib.pyplot as plt\n",
    "\n",
    "from torch.utils.data.dataset import Dataset"
   ]
  },
  {
   "cell_type": "code",
   "execution_count": null,
   "metadata": {},
   "outputs": [],
   "source": [
    "class View(nn.Module):\n",
    "    def __init__(self, *v):\n",
    "        super(View, self).__init__()\n",
    "        self.v = v\n",
    "    \n",
    "    def forward(self, x):\n",
    "        return x.view(x.size(0), *self.v)"
   ]
  },
  {
   "cell_type": "code",
   "execution_count": null,
   "metadata": {},
   "outputs": [],
   "source": [
    "# dir_ = 'imgs_jpg'\n",
    "# images = np.array([plt.imread(os.path.join(dir_, filename)) for filename in os.listdir(dir_)])\n",
    "# labels = np.load('cube-1.13.3.npy')\n",
    "# np.save('images.npy', images)\n",
    "# np.save('labels.npy', labels)\n",
    "\n",
    "images = np.load('cubes_images.npy') / 255\n",
    "labels = np.load('cubes_labels.npy') / 255\n",
    "\n",
    "train_data = torch.from_numpy(images.transpose(0, 3, 1, 2).astype(np.float32))\n",
    "train_labels = torch.from_numpy(labels.astype(np.int64))\n",
    "\n",
    "batch_size = 16\n",
    "train_dataset = data_utils.TensorDataset(train_data, train_labels)\n",
    "train_loader = data_utils.DataLoader(train_dataset, batch_size=batch_size, shuffle=True)"
   ]
  },
  {
   "cell_type": "code",
   "execution_count": null,
   "metadata": {},
   "outputs": [],
   "source": [
    "encoder = nn.Sequential(\n",
    "    nn.Conv2d(3, 8, 3, padding=1),\n",
    "    nn.ReLU(),\n",
    "    nn.MaxPool2d(2),\n",
    "    nn.Conv2d(8, 4, 3, padding=1),\n",
    "    nn.ReLU(),\n",
    "    nn.MaxPool2d(2),\n",
    "    View(-1),\n",
    "    nn.Linear(256, 100)\n",
    ")"
   ]
  },
  {
   "cell_type": "code",
   "execution_count": null,
   "metadata": {},
   "outputs": [],
   "source": [
    "decoder = nn.Sequential(\n",
    "    nn.Linear(100, 256),\n",
    "    View(4, 8, 8),\n",
    "    nn.Upsample(scale_factor=2, mode='nearest'),\n",
    "    nn.ReLU(),\n",
    "    nn.Conv2d(4, 8, 3, padding=1),\n",
    "    nn.Upsample(scale_factor=2, mode='nearest'),\n",
    "    nn.ReLU(),\n",
    "    nn.Conv2d(8, 3, 3, padding=1),\n",
    "    nn.Sigmoid()\n",
    ")"
   ]
  },
  {
   "cell_type": "code",
   "execution_count": null,
   "metadata": {},
   "outputs": [],
   "source": [
    "images, labels = next(iter(train_loader))\n",
    "images = Variable(images)"
   ]
  },
  {
   "cell_type": "code",
   "execution_count": null,
   "metadata": {},
   "outputs": [],
   "source": [
    "optimizer = torch.optim.Adam(list(encoder.parameters()) + list(decoder.parameters()), lr=1e-3)"
   ]
  },
  {
   "cell_type": "code",
   "execution_count": null,
   "metadata": {},
   "outputs": [],
   "source": [
    "for j in range(10):\n",
    "    print(j)\n",
    "    for i, (images, labels) in enumerate(train_loader):\n",
    "        images = Variable(images)\n",
    "\n",
    "        optimizer.zero_grad()\n",
    "        recon = decoder(encoder(images))\n",
    "        loss = ((recon - images) ** 2).sum(-1).sum(-1).sum(-1).mean()\n",
    "        loss.backward()\n",
    "        optimizer.step()\n",
    "        print('\\r', i, '/', len(train_loader), ':', loss.data.cpu().numpy()[0], end='')\n",
    "    print()"
   ]
  },
  {
   "cell_type": "code",
   "execution_count": null,
   "metadata": {
    "scrolled": false
   },
   "outputs": [],
   "source": [
    "img = Variable(next(iter(train_loader))[0][0:1])\n",
    "rec_img = decoder(encoder(img))\n",
    "\n",
    "plt.imshow(img.data.cpu().numpy()[0].transpose(1, 2, 0))\n",
    "plt.show()\n",
    "plt.imshow(rec_img.data.cpu().numpy()[0].transpose(1, 2, 0))\n",
    "plt.show()"
   ]
  },
  {
   "cell_type": "code",
   "execution_count": null,
   "metadata": {},
   "outputs": [],
   "source": []
  }
 ],
 "metadata": {
  "kernelspec": {
   "display_name": "Python 3",
   "language": "python",
   "name": "python3"
  },
  "language_info": {
   "codemirror_mode": {
    "name": "ipython",
    "version": 3
   },
   "file_extension": ".py",
   "mimetype": "text/x-python",
   "name": "python",
   "nbconvert_exporter": "python",
   "pygments_lexer": "ipython3",
   "version": "3.6.4"
  }
 },
 "nbformat": 4,
 "nbformat_minor": 2
}
