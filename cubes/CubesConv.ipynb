{
 "cells": [
  {
   "cell_type": "code",
   "execution_count": null,
   "metadata": {},
   "outputs": [],
   "source": [
    "import os\n",
    "import torch\n",
    "from torch.autograd import Variable\n",
    "import torch.nn as nn\n",
    "import torch.nn.functional as F\n",
    "import torch.utils.data as data_utils\n",
    "import numpy as np\n",
    "import matplotlib.pyplot as plt\n",
    "\n",
    "from vae import VAE\n",
    "from reparameterize import Nreparameterize, SO3reparameterize, N0reparameterize\n",
    "\n",
    "from torch.utils.data.dataset import Dataset"
   ]
  },
  {
   "cell_type": "code",
   "execution_count": null,
   "metadata": {},
   "outputs": [],
   "source": [
    "class View(nn.Module):\n",
    "    def __init__(self, *v):\n",
    "        super(View, self).__init__()\n",
    "        self.v = v\n",
    "    \n",
    "    def forward(self, x):\n",
    "        return x.view(*self.v)\n",
    "    \n",
    "class Flatten(nn.Module):\n",
    "    def __init__(self):\n",
    "        super(Flatten, self).__init__()\n",
    "    \n",
    "    def forward(self, x):\n",
    "        return x.view(x.size(0), -1)"
   ]
  },
  {
   "cell_type": "code",
   "execution_count": null,
   "metadata": {},
   "outputs": [],
   "source": [
    "class Decoder(nn.Module):\n",
    "    \n",
    "    def __init__(self):\n",
    "        super(Decoder, self).__init__()\n",
    "        \n",
    "        self.__decoder_f = nn.Sequential(\n",
    "            nn.Linear(9, 100),\n",
    "            nn.ReLU(),\n",
    "            nn.Linear(100, 256),\n",
    "            nn.ReLU(),\n",
    "            nn.Linear(256, 32 * 8 * 8),\n",
    "            View(-1, 32, 8, 8),\n",
    "            nn.Upsample(scale_factor=2, mode='nearest'),\n",
    "            nn.ReLU(),\n",
    "            nn.Conv2d(32, 16, 3, padding=1),\n",
    "            nn.Upsample(scale_factor=2, mode='nearest'),\n",
    "            nn.ReLU(),\n",
    "            nn.Conv2d(16, 3, 3, padding=1),\n",
    "            nn.Sigmoid()\n",
    "        )\n",
    "\n",
    "    def forward(self, z):\n",
    "        h = self.__decoder_f(z)\n",
    "        return h.view(z.size()[0], z.size()[1], 3, 32, 32)\n",
    "\n",
    "class ConvVAE(VAE):\n",
    "    def __init__(self):\n",
    "        super(ConvVAE, self).__init__()\n",
    "        \n",
    "        self.encoder = nn.Sequential(\n",
    "            nn.Conv2d(3, 16, 3, padding=1),\n",
    "            nn.ReLU(),\n",
    "            nn.MaxPool2d(2),\n",
    "            nn.Conv2d(16, 32, 3, padding=1),\n",
    "            nn.ReLU(),\n",
    "            nn.MaxPool2d(2),\n",
    "            Flatten(),\n",
    "            nn.Linear(32 * 8 * 8, 256),\n",
    "            nn.ReLU(),\n",
    "            nn.Linear(256, 100),\n",
    "            nn.ReLU()\n",
    "        )\n",
    "\n",
    "#         self.rep0 = Nreparameterize(100, z_dim=3)\n",
    "        self.rep0 = N0reparameterize(100, z_dim=3)\n",
    "        self.rep1 = SO3reparameterize(self.rep0)\n",
    "        \n",
    "        self.r_callback = [self.useless_f]\n",
    "        \n",
    "        self.reparameterize = [self.rep1] # [self.rep0]\n",
    "\n",
    "        self.decoder = Decoder()\n",
    "    \n",
    "    def useless_f(self, x):\n",
    "        return x\n",
    "    \n",
    "    def recon_loss(self, x_recon, x):\n",
    "        return ((x_recon - x) ** 2).sum(-1).sum(-1).sum(-1)"
   ]
  },
  {
   "cell_type": "code",
   "execution_count": null,
   "metadata": {},
   "outputs": [],
   "source": [
    "model = ConvVAE()"
   ]
  },
  {
   "cell_type": "code",
   "execution_count": null,
   "metadata": {},
   "outputs": [],
   "source": [
    "# dir_ = 'imgs_jpg'\n",
    "# images = np.array([plt.imread(os.path.join(dir_, filename)) for filename in os.listdir(dir_)])\n",
    "# labels = np.load('cube-1.13.3.npy')\n",
    "# np.save('images.npy', images)\n",
    "# np.save('labels.npy', labels)\n",
    "\n",
    "images = np.load('cubes_images.npy') / 255\n",
    "labels = np.load('cubes_labels.npy') / 255\n",
    "\n",
    "train_data = torch.from_numpy(images.transpose(0, 3, 1, 2).astype(np.float32))\n",
    "train_labels = torch.from_numpy(labels.astype(np.int64))\n",
    "\n",
    "batch_size = 16\n",
    "train_dataset = data_utils.TensorDataset(train_data, train_labels)\n",
    "train_loader = data_utils.DataLoader(train_dataset, batch_size=batch_size, shuffle=True)"
   ]
  },
  {
   "cell_type": "code",
   "execution_count": null,
   "metadata": {},
   "outputs": [],
   "source": [
    "# decoder = nn.Sequential(\n",
    "#     nn.Linear(100, 256),\n",
    "#     View(4, 8, 8),\n",
    "#     nn.Upsample(scale_factor=2, mode='nearest'),\n",
    "#     nn.ReLU(),\n",
    "#     nn.Conv2d(4, 8, 3, padding=1),\n",
    "#     nn.Upsample(scale_factor=2, mode='nearest'),\n",
    "#     nn.ReLU(),\n",
    "#     nn.Conv2d(8, 3, 3, padding=1),\n",
    "#     nn.Sigmoid()\n",
    "# )"
   ]
  },
  {
   "cell_type": "code",
   "execution_count": null,
   "metadata": {},
   "outputs": [],
   "source": [
    "# images, labels = next(iter(train_loader))\n",
    "# images = Variable(images)"
   ]
  },
  {
   "cell_type": "code",
   "execution_count": null,
   "metadata": {},
   "outputs": [],
   "source": [
    "# torch.save(model, 'filename.pt')\n",
    "# model = torch.load('filename.pt')"
   ]
  },
  {
   "cell_type": "code",
   "execution_count": null,
   "metadata": {},
   "outputs": [],
   "source": [
    "optimizer = torch.optim.Adam(model.parameters())"
   ]
  },
  {
   "cell_type": "code",
   "execution_count": null,
   "metadata": {},
   "outputs": [],
   "source": [
    "for j in range(10):\n",
    "    print(j)\n",
    "    for i, (images, labels) in enumerate(train_loader):\n",
    "        images = Variable(images)\n",
    "\n",
    "        optimizer.zero_grad()\n",
    "        \n",
    "        recon, kl = model.elbo(images)\n",
    "        loss = (recon + kl).mean()\n",
    "        \n",
    "        loss.backward()\n",
    "        optimizer.step()\n",
    "        print('\\r', i, '/', len(train_loader), ':', loss.data.cpu().numpy()[0], '-', \n",
    "              recon.mean().data.cpu().numpy()[0], end='')\n",
    "\n",
    "    torch.save(model, 'filename.pt')\n",
    "    print(model.log_likelihood(Variable(train_data[:100]), n=5).data.cpu().numpy()[0])\n",
    "    print()"
   ]
  },
  {
   "cell_type": "code",
   "execution_count": null,
   "metadata": {},
   "outputs": [],
   "source": [
    "# optimizer = torch.optim.Adam(list(encoder.parameters()) + list(decoder.parameters()), lr=1e-3)"
   ]
  },
  {
   "cell_type": "code",
   "execution_count": null,
   "metadata": {},
   "outputs": [],
   "source": [
    "# for j in range(10):\n",
    "#     print(j)\n",
    "#     for i, (images, labels) in enumerate(train_loader):\n",
    "#         images = Variable(images)\n",
    "\n",
    "#         optimizer.zero_grad()\n",
    "#         recon = decoder(encoder(images))\n",
    "#         loss = ((recon - images) ** 2).sum(-1).sum(-1).sum(-1).mean()\n",
    "#         loss.backward()\n",
    "#         optimizer.step()\n",
    "#         print('\\r', i, '/', len(train_loader), ':', loss.data.cpu().numpy()[0], end='')\n",
    "#     print()"
   ]
  },
  {
   "cell_type": "code",
   "execution_count": null,
   "metadata": {
    "scrolled": false
   },
   "outputs": [],
   "source": [
    "# img = Variable(next(iter(train_loader))[0][0:1])\n",
    "# rec_img = decoder(encoder(img))\n",
    "\n",
    "# plt.imshow(img.data.cpu().numpy()[0].transpose(1, 2, 0))\n",
    "# plt.show()\n",
    "# plt.imshow(rec_img.data.cpu().numpy()[0].transpose(1, 2, 0))\n",
    "# plt.show()"
   ]
  },
  {
   "cell_type": "code",
   "execution_count": null,
   "metadata": {},
   "outputs": [],
   "source": [
    "img = Variable(next(iter(train_loader))[0][0:1])\n",
    "rec_img = model(img)\n",
    "\n",
    "plt.imshow(img.data.cpu().numpy()[0].transpose(1, 2, 0))\n",
    "plt.show()\n",
    "plt.imshow(rec_img.data.cpu().numpy()[0].transpose(1, 2, 0))\n",
    "plt.show()"
   ]
  },
  {
   "cell_type": "code",
   "execution_count": null,
   "metadata": {},
   "outputs": [],
   "source": []
  }
 ],
 "metadata": {
  "kernelspec": {
   "display_name": "Python 3",
   "language": "python",
   "name": "python3"
  },
  "language_info": {
   "codemirror_mode": {
    "name": "ipython",
    "version": 3
   },
   "file_extension": ".py",
   "mimetype": "text/x-python",
   "name": "python",
   "nbconvert_exporter": "python",
   "pygments_lexer": "ipython3",
   "version": "3.6.4"
  }
 },
 "nbformat": 4,
 "nbformat_minor": 2
}
