{
 "cells": [
  {
   "cell_type": "code",
   "execution_count": null,
   "metadata": {},
   "outputs": [],
   "source": [
    "import numpy as np \n",
    "import torch \n",
    "from torch import nn\n",
    "from torch.autograd import Variable \n",
    "import torch.nn.functional as F\n",
    "import matplotlib.pyplot as plt\n",
    "from mpl_toolkits.mplot3d import Axes3D"
   ]
  },
  {
   "cell_type": "code",
   "execution_count": null,
   "metadata": {},
   "outputs": [],
   "source": []
  },
  {
   "cell_type": "code",
   "execution_count": null,
   "metadata": {},
   "outputs": [],
   "source": [
    "class Net(nn.Module):\n",
    "    def __init__(self, n_hidden):\n",
    "        super(Net, self).__init__()\n",
    "        self.hidden_1 = nn.Linear(2 * 5 * 3, n_hidden)\n",
    "        self.hidden_2 = nn.Linear(n_hidden, n_hidden)\n",
    "        self.hidden_mu = nn.Linear(n_hidden, 3)\n",
    "        self.hidden_Ldiag = nn.Linear(n_hidden, 3)\n",
    "        self.hidden_Lnondiag = nn.Linear(n_hidden, 3)\n",
    "\n",
    "    def forward(self, x):\n",
    "        h0 = F.tanh(self.hidden_1(x))\n",
    "        h1 = F.tanh(self.hidden_2(h0))\n",
    "        \n",
    "        mu = self.hidden_mu(h1)\n",
    "        D = F.softplus(self.hidden_Ldiag(h1))\n",
    "        L = self.hidden_Lnondiag(h1)\n",
    "\n",
    "        L = torch.cat((Variable(torch.ones(torch.Size((*D.size()[:-1], 1)))),\n",
    "                Variable(torch.zeros(torch.Size((*D.size()[:-1], 2)))),\n",
    "                L[...,0].unsqueeze(-1),\n",
    "                Variable(torch.ones(torch.Size((*D.size()[:-1], 1)))),\n",
    "                Variable(torch.zeros(torch.Size((*D.size()[:-1], 1)))),\n",
    "                L[...,1:],\n",
    "                Variable(torch.ones(torch.Size((*D.size()[:-1], 1))))), -1).view(\n",
    "            torch.Size((*D.size()[:-1], 3, 3)))\n",
    "\n",
    "        return mu, L, D"
   ]
  },
  {
   "cell_type": "code",
   "execution_count": null,
   "metadata": {},
   "outputs": [],
   "source": [
    "net = Net(32)"
   ]
  },
  {
   "cell_type": "code",
   "execution_count": null,
   "metadata": {},
   "outputs": [],
   "source": [
    "x_mb = Variable(torch.FloatTensor(np.random.uniform(size=(10, 2 * 5 * 3))))"
   ]
  },
  {
   "cell_type": "code",
   "execution_count": null,
   "metadata": {},
   "outputs": [],
   "source": [
    "net(x_mb)"
   ]
  },
  {
   "cell_type": "code",
   "execution_count": null,
   "metadata": {},
   "outputs": [],
   "source": []
  },
  {
   "cell_type": "code",
   "execution_count": null,
   "metadata": {},
   "outputs": [],
   "source": [
    "def deg2coo(x):\n",
    "    theta = x.T[0]\n",
    "    phi = x.T[1]\n",
    "\n",
    "    xs = np.sin(phi) * np.sin(theta)\n",
    "    ys = np.cos(phi) * np.sin(theta)\n",
    "    zs = np.cos(theta)\n",
    "\n",
    "    return np.vstack((xs, ys, zs)).T\n",
    "\n",
    "def randomR():\n",
    "    q, r = np.linalg.qr(np.random.normal(size=(3, 3)))\n",
    "    r = np.diag(r)\n",
    "    return q @ np.diag(r / np.abs(r))\n",
    "\n",
    "def next_batch(batch_dim):\n",
    "    a = np.pi / 12\n",
    "    canonicalL = deg2coo(np.array([[0, 0],\n",
    "                                   [a / 2, np.pi/2],\n",
    "                                   [a, np.pi/2],\n",
    "                                   [a / 2, 0],\n",
    "                                   [a, 0]]))\n",
    "\n",
    "    originalL = np.stack([canonicalL @ randomR() for _ in range(batch_dim)])\n",
    "    rotations = np.stack([randomR() for _ in range(batch_dim)])\n",
    "    rotatedL = np.stack([oL @ rot for oL, rot in zip(originalL, rotations)])\n",
    "\n",
    "    x_mb = np.hstack((originalL.reshape(-1, 5 * 3), rotatedL.reshape(-1, 5 * 3)))\n",
    "    \n",
    "    return x_mb, rotations"
   ]
  },
  {
   "cell_type": "code",
   "execution_count": null,
   "metadata": {},
   "outputs": [],
   "source": [
    "x_mb, y_mb = next_batch(2)"
   ]
  },
  {
   "cell_type": "code",
   "execution_count": null,
   "metadata": {},
   "outputs": [],
   "source": [
    "# x_mb.shape, y_mb.shape"
   ]
  },
  {
   "cell_type": "code",
   "execution_count": null,
   "metadata": {},
   "outputs": [],
   "source": [
    "fig = plt.figure(figsize=(8, 8))\n",
    "ax = fig.add_subplot(111, projection='3d')\n",
    "ax.set_aspect('equal')\n",
    "\n",
    "xs, ys, zs = x_mb[...,:15].reshape(-1, 3).T\n",
    "ax.scatter(xs, ys, zs)\n",
    "\n",
    "u = np.linspace(0, 2 * np.pi, 100)\n",
    "v = np.linspace(0, np.pi, 100)\n",
    "\n",
    "x = 1 * np.outer(np.cos(u), np.sin(v))\n",
    "y = 1 * np.outer(np.sin(u), np.sin(v))\n",
    "z = 1 * np.outer(np.ones(np.size(u)), np.cos(v))\n",
    "\n",
    "ax.plot_surface(x, y, z,  rstride=4, cstride=4, color='#DAE8FC', linewidth=0, alpha=0.3)\n",
    "ax.grid(False)\n",
    "plt.axis('off')\n",
    "plt.show()"
   ]
  },
  {
   "cell_type": "code",
   "execution_count": null,
   "metadata": {},
   "outputs": [],
   "source": []
  },
  {
   "cell_type": "code",
   "execution_count": null,
   "metadata": {},
   "outputs": [],
   "source": []
  }
 ],
 "metadata": {
  "anaconda-cloud": {},
  "kernelspec": {
   "display_name": "Python 3",
   "language": "python",
   "name": "python3"
  },
  "language_info": {
   "codemirror_mode": {
    "name": "ipython",
    "version": 3
   },
   "file_extension": ".py",
   "mimetype": "text/x-python",
   "name": "python",
   "nbconvert_exporter": "python",
   "pygments_lexer": "ipython3",
   "version": "3.6.4"
  }
 },
 "nbformat": 4,
 "nbformat_minor": 1
}
