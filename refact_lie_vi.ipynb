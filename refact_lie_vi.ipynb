{
 "cells": [
  {
   "cell_type": "code",
   "execution_count": null,
   "metadata": {
    "collapsed": true
   },
   "outputs": [],
   "source": [
    "import numpy as np \n",
    "import math\n",
    "\n",
    "import torch \n",
    "from torch import nn\n",
    "from torch.autograd import Variable \n",
    "from torch import Tensor as t\n",
    "import torch.nn.functional as F\n",
    "from torch.distributions import Normal\n",
    "from torch.optim import Adam "
   ]
  },
  {
   "cell_type": "markdown",
   "metadata": {},
   "source": [
    "### import refactored code"
   ]
  },
  {
   "cell_type": "code",
   "execution_count": null,
   "metadata": {},
   "outputs": [],
   "source": [
    "%run utils.py\n",
    "%run net.py\n",
    "%run vi_lie.py"
   ]
  },
  {
   "cell_type": "markdown",
   "metadata": {},
   "source": [
    "#### Loss Functions"
   ]
  },
  {
   "cell_type": "code",
   "execution_count": null,
   "metadata": {
    "code_folding": []
   },
   "outputs": [],
   "source": [
    "def loss_func(v, xo_mb, y_mb, z_rot):\n",
    "    \"\"\" Different loss functions\n",
    "    Args:\n",
    "        v = {spherical, l2, r_metrirc, super_y}\n",
    "    Returns:\n",
    "        L: loss function of choice\n",
    "    \"\"\"\n",
    "    \n",
    "    xrot_mb = n2p(xo_mb @ y_mb)\n",
    "    xrot_recon_mb = n2p(xo_mb) @ z_rot\n",
    "    \n",
    "    if v=='geodesic':\n",
    "        L = ((xrot_recon_mb * xrot_mb).sum(-1) * 0.999999).acos().sum(-1).mean()\n",
    "    elif v=='l2':\n",
    "        L = ((xrot_recon_mb - xrot_mb)**2).sum(-1).sum(-1).mean()\n",
    "    elif v=='r_metric':\n",
    "        I = Variable(torch.eye(3))\n",
    "        L = (((I - n2p(y_mb)@z_rot.transpose(2,1))**2).sum(-1).sum(-1).mean()).sqrt()\n",
    "    elif v=='super_y':\n",
    "        L = ((n2p(y_mb) - z_rot)**2).sum(-1).sum(-1).mean()\n",
    "    else:\n",
    "        return None\n",
    "    \n",
    "    return L"
   ]
  },
  {
   "cell_type": "markdown",
   "metadata": {},
   "source": [
    "### Initialize Net"
   ]
  },
  {
   "cell_type": "code",
   "execution_count": null,
   "metadata": {},
   "outputs": [],
   "source": [
    "n_points = 7\n",
    "input_dim = n_points * 2 * 3\n",
    "z_dims = [128, 128, 128, 128]\n",
    "z_acts = [F.relu, F.tanh, F.relu, F.tanh]\n",
    "\n",
    "N = Net(128, n_points)\n",
    "optimizer = Adam(N.parameters(), 1e-4)"
   ]
  },
  {
   "cell_type": "markdown",
   "metadata": {},
   "source": [
    "### Train Net"
   ]
  },
  {
   "cell_type": "code",
   "execution_count": null,
   "metadata": {
    "code_folding": [
     13,
     17
    ]
   },
   "outputs": [],
   "source": [
    "batch_size = 32\n",
    "num_steps = 5000\n",
    "loss_plot = []\n",
    "random_m = False\n",
    "var_noise = True\n",
    "\n",
    "def train(num_steps):\n",
    "    for i in range(num_steps):\n",
    "        optimizer.zero_grad()\n",
    "        xo_mb, xrot_mb, y_mb = next_batch(batch_size, letter='0')\n",
    "        x_mb = np.hstack((xo_mb.reshape(-1, n_points * 3), xrot_mb.reshape(-1, n_points * 3)))\n",
    "\n",
    "        mu, L, D = N(n2p(x_mb), random=random_m)\n",
    "\n",
    "        if random_m:\n",
    "            D = Variable(torch.Tensor(1,1))\n",
    "            H = Variable(torch.Tensor(1,1))\n",
    "            z_rot = L\n",
    "        else:\n",
    "            noise = Variable(Normal(t(np.zeros(3)), t(np.ones(3))).sample_n(batch_size))    \n",
    "            v = (L @ (D.pow(0.5)*noise)[..., None]).squeeze()\n",
    "\n",
    "            H = -log_density(v, L, D, k = 10)\n",
    "\n",
    "            mu_lie = rodrigues(mu)\n",
    "            v_lie = rodrigues(v)\n",
    "            g_lie = mu_lie\n",
    "            if var_noise:\n",
    "                g_lie = g_lie @ v_lie\n",
    "            z_rot = g_lie\n",
    "\n",
    "        L_rec = loss_func('geodesic', xo_mb, y_mb, z_rot)\n",
    "\n",
    "        # weighting the entropy term to not be too strong\n",
    "        kl_w = 5e-2\n",
    "        L = L_rec - torch.mean(H)*kl_w\n",
    "        L.backward()\n",
    "        optimizer.step()\n",
    "        print ('\\r (%d/%d) L: %.3f \\t D: %.3f \\t H: %.3f' % \n",
    "               (i, num_steps, L_rec.data.numpy(), np.mean(D.data.numpy()), torch.mean(H)), end='')\n",
    "    #     loss_plot.append(L_rec.data.numpy())\n",
    "\n",
    "train(num_steps)"
   ]
  },
  {
   "cell_type": "markdown",
   "metadata": {},
   "source": [
    "### Some 3D plot"
   ]
  },
  {
   "cell_type": "code",
   "execution_count": null,
   "metadata": {
    "code_folding": [
     0,
     28
    ],
    "scrolled": false
   },
   "outputs": [],
   "source": [
    "def plot_sphere(ax):\n",
    "    u = np.linspace(0, 2 * np.pi, 100)\n",
    "    v = np.linspace(0, np.pi, 100)\n",
    "\n",
    "    x = 1 * np.outer(np.cos(u), np.sin(v))\n",
    "    y = 1 * np.outer(np.sin(u), np.sin(v))\n",
    "    z = 1 * np.outer(np.ones(np.size(u)), np.cos(v))\n",
    "\n",
    "    ax.plot_surface(x, y, z,  rstride=4, cstride=4, color='#000000', linewidth=0, alpha=0.3)\n",
    "    \n",
    "    \n",
    "fig = plt.figure(figsize=(8, 8))\n",
    "ax = fig.add_subplot(111, projection='3d')\n",
    "ax.set_aspect('equal')\n",
    "\n",
    "# get an input and rotation\n",
    "xo, xrot, y = next_batch(1, letter='0')\n",
    "x_mb = np.hstack((xo.reshape(-1, n_points * 3), xrot.reshape(-1, n_points * 3)))\n",
    "# plot the original and rotation\n",
    "xs, ys, zs = xo.reshape(-1, 3).T\n",
    "ax.scatter(xs, ys, zs, c='b')\n",
    "xs, ys, zs = xrot.reshape(-1, 3).T\n",
    "ax.scatter(xs, ys, zs, c='r')\n",
    "\n",
    "# get samples from neural net\n",
    "n_samples = 1\n",
    "samples = xrot\n",
    "for _ in range(n_samples):\n",
    "    xrot_recon = get_sample(N, x_mb, xo, var_noise=var_noise)\n",
    "    xs, ys, zs = xrot_recon.reshape(-1, 3).T\n",
    "    ax.scatter(xs, ys, zs)\n",
    "    samples = np.hstack((samples, xrot_recon))\n",
    "\n",
    "plot_sphere(ax)\n",
    "    \n",
    "ax.grid(False)\n",
    "plt.axis('off')\n",
    "plt.show()"
   ]
  },
  {
   "cell_type": "code",
   "execution_count": null,
   "metadata": {
    "collapsed": true
   },
   "outputs": [],
   "source": []
  },
  {
   "cell_type": "code",
   "execution_count": null,
   "metadata": {
    "collapsed": true
   },
   "outputs": [],
   "source": []
  }
 ],
 "metadata": {
  "kernelspec": {
   "display_name": "Python 3",
   "language": "python",
   "name": "python3"
  },
  "language_info": {
   "codemirror_mode": {
    "name": "ipython",
    "version": 3
   },
   "file_extension": ".py",
   "mimetype": "text/x-python",
   "name": "python",
   "nbconvert_exporter": "python",
   "pygments_lexer": "ipython3",
   "version": "3.6.3"
  }
 },
 "nbformat": 4,
 "nbformat_minor": 2
}
