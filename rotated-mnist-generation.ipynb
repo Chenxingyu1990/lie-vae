{
 "cells": [
  {
   "cell_type": "markdown",
   "metadata": {},
   "source": [
    "### Create Rotated MNIST\n",
    "rotated MNIST data set creator.\n",
    "- for a set of digits, randomly sample n instances\n",
    "- rotate every instance k times randomly between 0 to 360 degrees"
   ]
  },
  {
   "cell_type": "code",
   "execution_count": 2,
   "metadata": {},
   "outputs": [
    {
     "name": "stdout",
     "output_type": "stream",
     "text": [
      "Extracting data/train-images-idx3-ubyte.gz\n",
      "Extracting data/train-labels-idx1-ubyte.gz\n",
      "Extracting data/t10k-images-idx3-ubyte.gz\n",
      "Extracting data/t10k-labels-idx1-ubyte.gz\n"
     ]
    }
   ],
   "source": [
    "import os\n",
    "import numpy as np\n",
    "import scipy as sp\n",
    "import cv2\n",
    "import tensorflow as tf\n",
    "from tensorflow.examples.tutorials.mnist import input_data\n",
    "from collections import defaultdict\n",
    "import matplotlib.pyplot as plt\n",
    "\n",
    "mnist = input_data.read_data_sets('data/', one_hot=True)"
   ]
  },
  {
   "cell_type": "code",
   "execution_count": 3,
   "metadata": {},
   "outputs": [],
   "source": [
    "def rotate(img, num_rot=10, show_imgs=False):\n",
    "    \"\"\" Rotates an image, with evenly split rotations of 360/num_rot.\n",
    "    Args:\n",
    "        img:        image to be rotated\n",
    "        num_rot:    number of rotations\n",
    "        show_imgs:  plot images during rotation\n",
    "    Returns:\n",
    "        rotated_imgs: rotated image tensor\"\"\"\n",
    "    \n",
    "    rows,cols = img.shape\n",
    "    img = img.copy()\n",
    "    \n",
    "    rotated_imgs = []\n",
    "    for r in range(num_rot):#np.linspace(0,360,num_rot, dtype=np.int32):\n",
    "        rot = np.random.random()*360.\n",
    "        M = cv2.getRotationMatrix2D((cols/2,rows/2), rot,1)\n",
    "        img_rot = cv2.warpAffine(img,M,(cols,rows))\n",
    "        rotated_imgs.append(img_rot.flatten())\n",
    "        \n",
    "        if show_imgs:\n",
    "            plt.imshow(img_rot, interpolation='none', cmap='gray')\n",
    "            plt.show()\n",
    "        \n",
    "    return rotated_imgs"
   ]
  },
  {
   "cell_type": "code",
   "execution_count": 4,
   "metadata": {},
   "outputs": [],
   "source": [
    "def sample_images(classes=[0,1,2,3,4,5,6,7,8,9], num_unique_samples = 1, num_rot_samples=100):\n",
    "    \"\"\" Sample images from MNIST classes, and create rotated dataset\n",
    "    Args:\n",
    "        classes:             classes to sample from\n",
    "        num_unique_samples:  number of unique samples per class \n",
    "        num_rot_samples:     number of rotation angles per class\n",
    "    Returns:\n",
    "        to_save_imgs:    rotated images tensor\n",
    "        to_save_labels:  rotated labels tensor\"\"\"\n",
    "    \n",
    "    to_save_imgs = []\n",
    "    to_save_labels = []\n",
    "    \n",
    "    for c in classes:\n",
    "        imgs = mnist.train.images[np.argmax(mnist.train.labels, -1) == c]\n",
    "        sample = np.random.choice(np.shape(imgs)[0], num_unique_samples, replace=False)\n",
    "        \n",
    "        for s in sample:\n",
    "            img = np.reshape(imgs[s, :] , (28, 28))\n",
    "            rotated_imgs = rotate(img, num_rot_samples)\n",
    "            to_save_imgs.append(rotated_imgs)\n",
    "            to_save_labels.append(np.full((num_rot_samples,1), c, dtype=np.int32))\n",
    "        print('\\r rotated: %d' % (c), end='')\n",
    "        \n",
    "    print ('\\r--->done creating rotated data set', end='')\n",
    "    \n",
    "    to_save_imgs = np.reshape(to_save_imgs, (-1,784))\n",
    "    to_save_labels = np.asarray(to_save_labels).flatten()\n",
    "    return to_save_imgs, to_save_labels"
   ]
  },
  {
   "cell_type": "code",
   "execution_count": 5,
   "metadata": {},
   "outputs": [],
   "source": [
    "def split(imgs, labels, val_ratio=0.05, test_ratio=0.1):\n",
    "    \"\"\"Splits the total dataset in a train, val, and test set\n",
    "    Args:\n",
    "        imgs:        tensor with images\n",
    "        labels:      labels of images\n",
    "        val_ratio:   ratio of validation set\n",
    "        test_ratio:  ratio of test set\"\"\"\n",
    "    \n",
    "    val_size = int(imgs.shape[0] * val_ratio)\n",
    "    test_size = int(imgs.shape[0] * test_ratio)\n",
    "    \n",
    "    # randomly samples a balanced val + test idx set\n",
    "    val_test_idx =  [np.random.choice(np.where(labels == l)[0],\n",
    "                    (val_size + test_size) // len(classes),\n",
    "                    replace = False)\n",
    "                    for l in classes]\n",
    "    val_test_idx = np.asarray(val_test_idx).flatten()\n",
    "    \n",
    "    val_idx =  [np.random.choice(\n",
    "                    val_test_idx[np.where(labels[val_test_idx] == l)[0]],\n",
    "                    (val_size) // len(classes),\n",
    "                    replace = False)\n",
    "                    for l in classes]\n",
    "    val_idx = np.asarray(val_idx).flatten()    \n",
    "    test_idx = list(set(val_test_idx) - set(val_idx))\n",
    "    train_idx = list(set(np.arange(np.shape(labels)[0])) - set(val_test_idx))\n",
    "    \n",
    "    return imgs[train_idx], labels[train_idx], \\\n",
    "           imgs[val_idx], labels[val_idx], \\\n",
    "           imgs[test_idx], labels[test_idx]\n",
    "    \n",
    "\n",
    "def save_data(names, data, pre_name='rot'):\n",
    "    pre_name = 'data/' + pre_name\n",
    "    if not os.path.exists(pre_name):\n",
    "        os.mkdir(pre_name)\n",
    "    \n",
    "    for n, d in zip(names, data):\n",
    "        n = ('./%s/rmnist.' % pre_name) + n\n",
    "        np.save(n,d)\n",
    "        \n",
    "    print ('\\n saved data ')"
   ]
  },
  {
   "cell_type": "markdown",
   "metadata": {},
   "source": [
    "#### Actually call routine to create rotated data set"
   ]
  },
  {
   "cell_type": "code",
   "execution_count": 6,
   "metadata": {},
   "outputs": [
    {
     "name": "stdout",
     "output_type": "stream",
     "text": [
      "\r",
      " rotated: 3\r",
      "--->done creating rotated data set\n",
      " saved data \n"
     ]
    }
   ],
   "source": [
    "# get rotated samples of size: num_classes * num_s * num_rotations\n",
    "classes = [3]\n",
    "num_unique_samples = 1\n",
    "num_rot_samples = 10000\n",
    "imgs, labels = sample_images(classes = classes,\n",
    "                             num_unique_samples = num_unique_samples,\n",
    "                             num_rot_samples = num_rot_samples)\n",
    "\n",
    "# split up in train, validation, and test sets\n",
    "train_im, train_l, val_im, val_l, test_im, test_l = split(imgs, labels)\n",
    "\n",
    "# save to data folder\n",
    "pre_name= ('%sc%ds%dr' % (''.join(map(lambda x: str(x), classes)),\n",
    "                          num_unique_samples, \n",
    "                          num_rot_samples))\n",
    "\n",
    "names = ['digits.train.npy', 'labels.train.npy', \\\n",
    "         'digits.validation.npy', 'labels.validation.npy', \\\n",
    "         'digits.test.npy', 'labels.test.npy']\n",
    "data = [train_im, train_l, val_im, val_l, test_im, test_l]\n",
    "save_data(names, data, pre_name)"
   ]
  },
  {
   "cell_type": "markdown",
   "metadata": {},
   "source": [
    "#### Rotated sanity check:"
   ]
  },
  {
   "cell_type": "code",
   "execution_count": null,
   "metadata": {},
   "outputs": [],
   "source": [
    "% matplotlib inline\n",
    "\n",
    "digit = np.random.randint(0,len(labels))\n",
    "fig, axs = plt.subplots(2,5)\n",
    "axs = axs.flatten()\n",
    "for j in range(10):\n",
    "    im = np.reshape(imgs[digit + j*(num_rot_samples // 10)], (28,28))\n",
    "    axs[j].axis('off')\n",
    "    axs[j].imshow(im, interpolation='none', cmap='gray_r')\n",
    "\n",
    "plt.show()"
   ]
  }
 ],
 "metadata": {
  "kernelspec": {
   "display_name": "Python 3",
   "language": "python",
   "name": "python3"
  },
  "language_info": {
   "codemirror_mode": {
    "name": "ipython",
    "version": 3
   },
   "file_extension": ".py",
   "mimetype": "text/x-python",
   "name": "python",
   "nbconvert_exporter": "python",
   "pygments_lexer": "ipython3",
   "version": "3.6.3"
  }
 },
 "nbformat": 4,
 "nbformat_minor": 2
}
