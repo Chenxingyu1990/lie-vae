{
 "cells": [
  {
   "cell_type": "code",
   "execution_count": null,
   "metadata": {},
   "outputs": [],
   "source": [
    "import math\n",
    "import gzip\n",
    "import pickle\n",
    "import argparse\n",
    "import numpy as np\n",
    "\n",
    "import torch \n",
    "from torch import nn\n",
    "from torch.autograd import Variable \n",
    "from torch import Tensor as t\n",
    "import torch.nn.functional as F\n",
    "from torch.distributions import Normal\n",
    "from torch.optim import Adam \n",
    "import torch.utils.data as data_utils\n",
    "\n",
    "from pytorch_util import MLP\n",
    "from reparameterize import Nreparameterize\n",
    "from reparameterize import SO3reparameterize\n",
    "from pytorch_util import logsumexp, load_mnist_data, n2p\n",
    "\n",
    "from vae import VAE\n",
    "\n",
    "import ipympl\n",
    "import matplotlib.pyplot as plt\n",
    "from mpl_toolkits.mplot3d import Axes3D\n",
    "%matplotlib inline \n",
    "#%matplotlib notebook"
   ]
  },
  {
   "cell_type": "markdown",
   "metadata": {},
   "source": [
    "### Generate Random Point and Rotation\n",
    "- Either create a Gaussian point cloud, or generate a random line.\n",
    "- Generate a random rotation by sampling from 'some' distribution and applying exponential map."
   ]
  },
  {
   "cell_type": "code",
   "execution_count": null,
   "metadata": {},
   "outputs": [],
   "source": [
    "def randomR():\n",
    "    v = np.random.normal(0,1,(1,3))\n",
    "    v_x = SO3reparameterize._expmap_rodrigues(n2p(v)).squeeze()\n",
    "    return v_x \n",
    "\n",
    "def gen_point_pair(mu = 0., std = 1., n=2, line=False):\n",
    "    if line:\n",
    "        x = np.tile(np.random.normal(mu, std, (1, 3)), [n,1])\n",
    "        x[:,0] = x[:,0] + np.linspace(-2,2,n)\n",
    "    else:\n",
    "        x = np.random.normal(mu,std,(n,3))\n",
    "    x = n2p(x)\n",
    "    R = randomR()\n",
    "    x_rot = x @ R\n",
    "    return x, x_rot, R"
   ]
  },
  {
   "cell_type": "markdown",
   "metadata": {},
   "source": [
    "### Plot original and rotated point"
   ]
  },
  {
   "cell_type": "code",
   "execution_count": null,
   "metadata": {},
   "outputs": [],
   "source": [
    "def plot_3d(v, c='red', m='o'):\n",
    "    for i in range(v.size()[0]):\n",
    "        xs, ys, zs = v.data.numpy()[i,:]\n",
    "        ax.scatter(xs, ys, zs, c=c, marker=m)\n",
    "\n",
    "\n",
    "x, x_rot, R_x = gen_point_pair(0., 1., 10, line=True)\n",
    "\n",
    "print ((x - (x_rot @ R_x.transpose(0,1))).sum().data.numpy() < 1e-4)\n",
    "\n",
    "fig = plt.figure()\n",
    "ax = fig.add_subplot(111, projection='3d')\n",
    "    \n",
    "plot_3d(x)\n",
    "plot_3d(x_rot, c='blue')\n",
    "    \n",
    "ax.set_xlabel('X Label')\n",
    "ax.set_ylabel('Y Label')\n",
    "ax.set_zlabel('Z Label')\n",
    "ax.set_xlim((-4,4))\n",
    "ax.set_ylim((-4,4))\n",
    "ax.set_zlim((-4,4));"
   ]
  },
  {
   "cell_type": "code",
   "execution_count": null,
   "metadata": {},
   "outputs": [],
   "source": []
  }
 ],
 "metadata": {
  "kernelspec": {
   "display_name": "Python 3",
   "language": "python",
   "name": "python3"
  },
  "language_info": {
   "codemirror_mode": {
    "name": "ipython",
    "version": 3
   },
   "file_extension": ".py",
   "mimetype": "text/x-python",
   "name": "python",
   "nbconvert_exporter": "python",
   "pygments_lexer": "ipython3",
   "version": "3.6.3"
  }
 },
 "nbformat": 4,
 "nbformat_minor": 2
}
