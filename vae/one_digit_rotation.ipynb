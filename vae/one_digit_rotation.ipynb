{
 "cells": [
  {
   "cell_type": "code",
   "execution_count": 1,
   "metadata": {
    "collapsed": true
   },
   "outputs": [],
   "source": [
    "import math\n",
    "import gzip\n",
    "import pickle\n",
    "import argparse\n",
    "import numpy as np\n",
    "\n",
    "import torch\n",
    "import torch.nn as nn\n",
    "import torch.nn.functional as F\n",
    "import torch.utils.data as data_utils\n",
    "from torch.autograd import Variable\n",
    "from torch.distributions import Normal\n",
    "\n",
    "from s2cnn.nn.soft.so3_conv import SO3Convolution\n",
    "from s2cnn.nn.soft.s2_conv import S2Convolution\n",
    "from s2cnn.nn.soft.so3_integrate import so3_integrate\n",
    "from s2cnn.ops.so3_localft import near_identity_grid as so3_near_identity_grid\n",
    "from s2cnn.ops.s2_localft import near_identity_grid as s2_near_identity_grid\n",
    "\n",
    "import matplotlib.pyplot as plt\n",
    "\n",
    "from pytorch_util import load_mnist_data, n2p\n",
    "from vae import *"
   ]
  },
  {
   "cell_type": "code",
   "execution_count": 2,
   "metadata": {
    "collapsed": true
   },
   "outputs": [],
   "source": [
    "parser = argparse.ArgumentParser()\n",
    "parser.add_argument('--gpu', '-g', type=int, default=0, help='')\n",
    "parser.add_argument('--epochs', '-e', type=int, default=10, help='')\n",
    "parser.add_argument('--batch_dim', '-bd', type=int, default=32, help='')\n",
    "parser.add_argument('--learning_rate', '-lr', type=float, default=1e-3, help='')\n",
    "\n",
    "FLAGS, unparsed = parser.parse_known_args()"
   ]
  },
  {
   "cell_type": "code",
   "execution_count": 4,
   "metadata": {
    "collapsed": true
   },
   "outputs": [],
   "source": [
    "train_loader, test_loader, train_dataset, _ = load_mnist_data('../mnist_example/s2_mnist-special.gz', FLAGS.batch_dim)\n",
    "torch.cuda.set_device(FLAGS.gpu)"
   ]
  },
  {
   "cell_type": "code",
   "execution_count": 170,
   "metadata": {},
   "outputs": [
    {
     "name": "stdout",
     "output_type": "stream",
     "text": [
      "#params 8270921\n"
     ]
    }
   ],
   "source": [
    "z_dims=[9]\n",
    "encoder_f=[1, 10, 10]\n",
    "decoder_f=[10, 10, 1]\n",
    "encoder_b=[30, 20, 6]\n",
    "decoder_b=[10, 15, 30]\n",
    "latents = ['so3']\n",
    "callbacks = [\n",
    "          {'type':'equivariant', \n",
    "           'f_list':[1],\n",
    "           'b_list':[6], \n",
    "           'mlp_h': [100]}]\n",
    "decoder_mlp_h=[100]\n",
    "\n",
    "vae = NS2VAE(z_dims=z_dims,\n",
    "             encoder_f=encoder_f,\n",
    "             decoder_f=decoder_f,\n",
    "             encoder_b=encoder_b,\n",
    "             decoder_b=decoder_b,\n",
    "             latents = latents,\n",
    "             callbacks = callbacks,\n",
    "             decoder_mlp_h=decoder_mlp_h,\n",
    "             max_pooling=False)\n",
    "print(\"#params\", sum([x.numel() for x in vae.parameters()]))\n",
    "\n",
    "if torch.cuda.is_available():\n",
    "    vae.cuda(FLAGS.gpu)\n",
    "\n",
    "optimizer = torch.optim.Adam(vae.parameters(), lr=FLAGS.learning_rate)"
   ]
  },
  {
   "cell_type": "code",
   "execution_count": 195,
   "metadata": {
    "code_folding": [],
    "scrolled": true
   },
   "outputs": [
    {
     "name": "stdout",
     "output_type": "stream",
     "text": [
      "\n",
      "epoch: 1/10\n",
      " it: 126/312 \t rec: 577.717 \t kl: 16.888"
     ]
    },
    {
     "ename": "RuntimeError",
     "evalue": "value cannot be converted to type double without overflow: -inf",
     "output_type": "error",
     "traceback": [
      "\u001b[0;31m---------------------------------------------------------------------------\u001b[0m",
      "\u001b[0;31mRuntimeError\u001b[0m                              Traceback (most recent call last)",
      "\u001b[0;32m<ipython-input-195-d9a0d105bd68>\u001b[0m in \u001b[0;36m<module>\u001b[0;34m()\u001b[0m\n\u001b[1;32m     12\u001b[0m         \u001b[0mrec\u001b[0m\u001b[0;34m,\u001b[0m \u001b[0mkl\u001b[0m \u001b[0;34m=\u001b[0m \u001b[0mvae\u001b[0m\u001b[0;34m.\u001b[0m\u001b[0melbo\u001b[0m\u001b[0;34m(\u001b[0m\u001b[0mimages\u001b[0m\u001b[0;34m,\u001b[0m \u001b[0mn\u001b[0m\u001b[0;34m=\u001b[0m\u001b[0;36m1\u001b[0m\u001b[0;34m)\u001b[0m\u001b[0;34m\u001b[0m\u001b[0m\n\u001b[1;32m     13\u001b[0m         \u001b[0mkl_w\u001b[0m \u001b[0;34m=\u001b[0m \u001b[0mfloat\u001b[0m\u001b[0;34m(\u001b[0m\u001b[0mnp\u001b[0m\u001b[0;34m.\u001b[0m\u001b[0mminimum\u001b[0m\u001b[0;34m(\u001b[0m\u001b[0;36m0.\u001b[0m\u001b[0;34m,\u001b[0m \u001b[0mi\u001b[0m \u001b[0;34m/\u001b[0m \u001b[0;34m(\u001b[0m\u001b[0mlen\u001b[0m\u001b[0;34m(\u001b[0m\u001b[0mtrain_dataset\u001b[0m\u001b[0;34m)\u001b[0m \u001b[0;34m/\u001b[0m \u001b[0mFLAGS\u001b[0m\u001b[0;34m.\u001b[0m\u001b[0mbatch_dim\u001b[0m\u001b[0;34m)\u001b[0m\u001b[0;34m)\u001b[0m\u001b[0;34m)\u001b[0m\u001b[0;34m\u001b[0m\u001b[0m\n\u001b[0;32m---> 14\u001b[0;31m         \u001b[0melbo\u001b[0m \u001b[0;34m=\u001b[0m \u001b[0mrec\u001b[0m\u001b[0;34m.\u001b[0m\u001b[0mmean\u001b[0m\u001b[0;34m(\u001b[0m\u001b[0;34m)\u001b[0m \u001b[0;34m+\u001b[0m \u001b[0mkl_w\u001b[0m \u001b[0;34m*\u001b[0m \u001b[0mkl\u001b[0m\u001b[0;34m.\u001b[0m\u001b[0mmean\u001b[0m\u001b[0;34m(\u001b[0m\u001b[0;34m)\u001b[0m\u001b[0;34m\u001b[0m\u001b[0m\n\u001b[0m\u001b[1;32m     15\u001b[0m         \u001b[0mave_epoch_loss\u001b[0m\u001b[0;34m.\u001b[0m\u001b[0mappend\u001b[0m\u001b[0;34m(\u001b[0m\u001b[0mrec\u001b[0m\u001b[0;34m.\u001b[0m\u001b[0mcpu\u001b[0m\u001b[0;34m(\u001b[0m\u001b[0;34m)\u001b[0m\u001b[0;34m.\u001b[0m\u001b[0mdata\u001b[0m\u001b[0;34m.\u001b[0m\u001b[0mnumpy\u001b[0m\u001b[0;34m(\u001b[0m\u001b[0;34m)\u001b[0m\u001b[0;34m.\u001b[0m\u001b[0mmean\u001b[0m\u001b[0;34m(\u001b[0m\u001b[0;34m)\u001b[0m\u001b[0;34m)\u001b[0m\u001b[0;34m\u001b[0m\u001b[0m\n\u001b[1;32m     16\u001b[0m         \u001b[0melbo\u001b[0m\u001b[0;34m.\u001b[0m\u001b[0mbackward\u001b[0m\u001b[0;34m(\u001b[0m\u001b[0;34m)\u001b[0m\u001b[0;34m\u001b[0m\u001b[0m\n",
      "\u001b[0;31mRuntimeError\u001b[0m: value cannot be converted to type double without overflow: -inf"
     ]
    }
   ],
   "source": [
    "for epoch in range(FLAGS.epochs):\n",
    "    print ('\\nepoch: %d/%d' % (epoch+1, FLAGS.epochs))\n",
    "    ave_epoch_loss = []\n",
    "    for i, (images, labels) in enumerate(train_loader):\n",
    "        images = Variable(images)/255\n",
    "        labels = Variable(labels)\n",
    "\n",
    "        if torch.cuda.is_available():\n",
    "            images = images.cuda(FLAGS.gpu)\n",
    "            labels = labels.cuda(FLAGS.gpu)\n",
    "        \n",
    "        rec, kl = vae.elbo(images, n=1)\n",
    "        kl_w = float(np.minimum(0., i / (len(train_dataset) / FLAGS.batch_dim)))\n",
    "        elbo = rec.mean() + kl_w * kl.mean()\n",
    "        ave_epoch_loss.append(rec.cpu().data.numpy().mean())\n",
    "        elbo.backward()\n",
    "\n",
    "        optimizer.step()\n",
    "        optimizer.zero_grad()\n",
    "        \n",
    "        print('\\r it: %d/%d \\t rec: %4.3f \\t kl: %4.3f' % \n",
    "              (i, int(len(train_dataset) / FLAGS.batch_dim), \\\n",
    "               rec.cpu().data.numpy().mean(), kl.cpu().data.numpy().mean()), end='')\n",
    "        \n",
    "        \n",
    "    print ('\\r ave elbo: %4.3f' % (np.asarray(ave_epoch_loss).mean()), end='')"
   ]
  },
  {
   "cell_type": "code",
   "execution_count": 194,
   "metadata": {
    "code_folding": []
   },
   "outputs": [
    {
     "data": {
      "image/png": "[encoded data removed]",
      "text/plain": [
       "<matplotlib.figure.Figure at 0x7fa57ad15588>"
      ]
     },
     "metadata": {},
     "output_type": "display_data"
    },
    {
     "data": {
      "image/png": "[encoded data removed]",
      "text/plain": [
       "<matplotlib.figure.Figure at 0x7fa5795a39b0>"
      ]
     },
     "metadata": {},
     "output_type": "display_data"
    }
   ],
   "source": [
    "b = 16\n",
    "idx = np.random.randint(0,b)\n",
    "plt.imshow(images[idx,0].cpu().data.numpy(), cmap=\"gray\")\n",
    "plt.show()\n",
    "plt.imshow(F.sigmoid(vae(images)[idx, 0,]).cpu().data.numpy(), cmap=\"gray\")\n",
    "plt.show()"
   ]
  },
  {
   "cell_type": "code",
   "execution_count": 148,
   "metadata": {},
   "outputs": [
    {
     "data": {
      "image/png": "[encoded data removed]",
      "text/plain": [
       "<matplotlib.figure.Figure at 0x7fa57b786f60>"
      ]
     },
     "metadata": {},
     "output_type": "display_data"
    }
   ],
   "source": [
    "c = np.random.normal(0,1,(1, b ,3))\n",
    "z = vae.decode(n2p(c).cuda())\n",
    "idx = np.random.randint(0,16)\n",
    "plt.imshow(z[idx,0].cpu().data.numpy(), cmap=\"gray\")\n",
    "plt.show()"
   ]
  },
  {
   "cell_type": "code",
   "execution_count": null,
   "metadata": {
    "collapsed": true
   },
   "outputs": [],
   "source": [
    "vae.log_likelihood(images.cuda(FLAGS.gpu), n=2)"
   ]
  },
  {
   "cell_type": "code",
   "execution_count": 127,
   "metadata": {},
   "outputs": [
    {
     "data": {
      "text/plain": [
       "Variable containing:\n",
       "(0 ,0 ,0 ,.,.) = \n",
       " -4.8147e-01 -4.6284e-01 -3.8335e-01  ...  -1.9900e-01 -3.4336e-01 -4.4010e-01\n",
       " -2.3833e+01 -2.4092e+01 -2.3677e+01  ...  -1.8931e+01 -2.1218e+01 -2.2872e+01\n",
       " -6.7493e+01 -6.7530e+01 -6.6670e+01  ...  -5.7424e+01 -6.2988e+01 -6.6179e+01\n",
       "                 ...                   ⋱                   ...                \n",
       " -6.0625e+00 -8.7499e+00 -1.0717e+01  ...  -5.4668e+00 -4.1652e+00 -4.4362e+00\n",
       " -7.8183e+00 -8.9174e+00 -1.0313e+01  ...  -7.1556e+00 -6.9180e+00 -7.1419e+00\n",
       " -1.1513e+01 -1.1282e+01 -1.1075e+01  ...  -1.2118e+01 -1.2045e+01 -1.1767e+01\n",
       "        ⋮ \n",
       "\n",
       "(0 ,1 ,0 ,.,.) = \n",
       " -4.9137e-01 -4.7524e-01 -4.0134e-01  ...  -2.1897e-01 -3.5734e-01 -4.5063e-01\n",
       " -2.2614e+01 -2.2864e+01 -2.2476e+01  ...  -1.7958e+01 -2.0128e+01 -2.1699e+01\n",
       " -6.3964e+01 -6.4003e+01 -6.3194e+01  ...  -5.4427e+01 -5.9696e+01 -6.2718e+01\n",
       "                 ...                   ⋱                   ...                \n",
       " -5.7354e+00 -8.2720e+00 -1.0212e+01  ...  -5.1930e+00 -3.9539e+00 -4.2032e+00\n",
       " -7.4756e+00 -8.5215e+00 -9.7727e+00  ...  -6.8343e+00 -6.6135e+00 -6.8301e+00\n",
       " -1.0982e+01 -1.0760e+01 -1.0561e+01  ...  -1.1590e+01 -1.1492e+01 -1.1226e+01\n",
       "        ⋮ \n",
       "\n",
       "(0 ,2 ,0 ,.,.) = \n",
       " -3.3688e-01 -3.2011e-01 -2.4603e-01  ...  -6.8779e-02 -2.0542e-01 -2.9726e-01\n",
       " -2.2303e+01 -2.2547e+01 -2.2157e+01  ...  -1.7691e+01 -1.9842e+01 -2.1398e+01\n",
       " -6.3343e+01 -6.3380e+01 -6.2570e+01  ...  -5.3867e+01 -5.9100e+01 -6.2103e+01\n",
       "                 ...                   ⋱                   ...                \n",
       " -5.6015e+00 -8.1249e+00 -1.0001e+01  ...  -5.0567e+00 -3.8282e+00 -4.0774e+00\n",
       " -7.3310e+00 -8.3608e+00 -9.6064e+00  ...  -6.7197e+00 -6.4923e+00 -6.6989e+00\n",
       " -1.0733e+01 -1.0518e+01 -1.0326e+01  ...  -1.1387e+01 -1.1229e+01 -1.0970e+01\n",
       "   ...   \n",
       "        ⋮ \n",
       "\n",
       "(0 ,29,0 ,.,.) = \n",
       " -4.8885e-01 -4.7401e-01 -3.9613e-01  ...  -1.8357e-01 -3.3723e-01 -4.4166e-01\n",
       " -2.4616e+01 -2.4896e+01 -2.4479e+01  ...  -1.9518e+01 -2.1891e+01 -2.3612e+01\n",
       " -6.9718e+01 -6.9772e+01 -6.8898e+01  ...  -5.9275e+01 -6.5034e+01 -6.8344e+01\n",
       "                 ...                   ⋱                   ...                \n",
       " -6.2815e+00 -9.0434e+00 -1.1143e+01  ...  -5.7290e+00 -4.3617e+00 -4.6201e+00\n",
       " -8.2359e+00 -9.3685e+00 -1.0727e+01  ...  -7.5652e+00 -7.3146e+00 -7.5410e+00\n",
       " -1.2023e+01 -1.1783e+01 -1.1568e+01  ...  -1.2726e+01 -1.2576e+01 -1.2287e+01\n",
       "        ⋮ \n",
       "\n",
       "(0 ,30,0 ,.,.) = \n",
       " -4.3217e-01 -4.1427e-01 -3.3463e-01  ...  -1.4295e-01 -2.9021e-01 -3.8924e-01\n",
       " -2.4085e+01 -2.4351e+01 -2.3935e+01  ...  -1.9109e+01 -2.1428e+01 -2.3107e+01\n",
       " -6.8290e+01 -6.8332e+01 -6.7466e+01  ...  -5.8081e+01 -6.3719e+01 -6.6954e+01\n",
       "                 ...                   ⋱                   ...                \n",
       " -6.0738e+00 -8.7896e+00 -1.0841e+01  ...  -5.4847e+00 -4.1628e+00 -4.4324e+00\n",
       " -7.9009e+00 -9.0201e+00 -1.0382e+01  ...  -7.2139e+00 -6.9779e+00 -7.2100e+00\n",
       " -1.1630e+01 -1.1396e+01 -1.1185e+01  ...  -1.2275e+01 -1.2171e+01 -1.1888e+01\n",
       "        ⋮ \n",
       "\n",
       "(0 ,31,0 ,.,.) = \n",
       " -5.1749e-01 -4.9989e-01 -4.1257e-01  ...  -1.8314e-01 -3.5200e-01 -4.6647e-01\n",
       " -2.7143e+01 -2.7445e+01 -2.6979e+01  ...  -2.1535e+01 -2.4148e+01 -2.6040e+01\n",
       " -7.6867e+01 -7.6920e+01 -7.5949e+01  ...  -6.5371e+01 -7.1715e+01 -7.5358e+01\n",
       "                 ...                   ⋱                   ...                \n",
       " -6.8074e+00 -9.8614e+00 -1.2180e+01  ...  -6.1513e+00 -4.6627e+00 -4.9634e+00\n",
       " -9.0073e+00 -1.0254e+01 -1.1722e+01  ...  -8.2752e+00 -7.9965e+00 -8.2437e+00\n",
       " -1.3151e+01 -1.2892e+01 -1.2659e+01  ...  -1.4002e+01 -1.3753e+01 -1.3439e+01\n",
       "[torch.cuda.FloatTensor of size 1x32x1x60x60 (GPU 0)]"
      ]
     },
     "execution_count": 127,
     "metadata": {},
     "output_type": "execute_result"
    }
   ],
   "source": [
    "vae(images)"
   ]
  },
  {
   "cell_type": "code",
   "execution_count": null,
   "metadata": {
    "collapsed": true
   },
   "outputs": [],
   "source": []
  }
 ],
 "metadata": {
  "kernelspec": {
   "display_name": "Python 3",
   "language": "python",
   "name": "python3"
  },
  "language_info": {
   "codemirror_mode": {
    "name": "ipython",
    "version": 3
   },
   "file_extension": ".py",
   "mimetype": "text/x-python",
   "name": "python",
   "nbconvert_exporter": "python",
   "pygments_lexer": "ipython3",
   "version": "3.6.1"
  }
 },
 "nbformat": 4,
 "nbformat_minor": 2
}
