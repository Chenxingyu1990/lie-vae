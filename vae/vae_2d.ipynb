{
 "cells": [
  {
   "cell_type": "code",
   "execution_count": null,
   "metadata": {},
   "outputs": [],
   "source": [
    "import math\n",
    "import gzip\n",
    "import pickle\n",
    "import argparse\n",
    "import numpy as np\n",
    "\n",
    "import torch\n",
    "import torch.nn as nn\n",
    "import torch.nn.functional as F\n",
    "import torch.utils.data as data_utils\n",
    "from torch.autograd import Variable\n",
    "from torch.distributions import Normal\n",
    "\n",
    "from pytorch_util import MLP\n",
    "from reparameterize import Nreparameterize\n",
    "from reparameterize import N0reparameterize\n",
    "from reparameterize import SO3reparameterize\n",
    "from pytorch_util import logsumexp\n",
    "\n",
    "import matplotlib.pyplot as plt\n",
    "\n",
    "from pytorch_util import load_mnist_data, n2p\n",
    "\n",
    "from vae import VAE"
   ]
  },
  {
   "cell_type": "code",
   "execution_count": null,
   "metadata": {},
   "outputs": [],
   "source": [
    "parser = argparse.ArgumentParser()\n",
    "parser.add_argument('--gpu', '-g', type=int, default=0, help='')\n",
    "parser.add_argument('--epochs', '-e', type=int, default=10, help='')\n",
    "parser.add_argument('--batch_dim', '-bd', type=int, default=32, help='')\n",
    "parser.add_argument('--learning_rate', '-lr', type=float, default=1e-3, help='')\n",
    "\n",
    "FLAGS, unparsed = parser.parse_known_args()"
   ]
  },
  {
   "cell_type": "code",
   "execution_count": null,
   "metadata": {},
   "outputs": [],
   "source": [
    "torch.cuda.set_device(FLAGS.gpu)"
   ]
  },
  {
   "cell_type": "code",
   "execution_count": null,
   "metadata": {},
   "outputs": [],
   "source": [
    "DIGITS = '3c1s10000r/'\n",
    "train_imgs = np.load(('../data/' + DIGITS + 'rmnist.digits.train.npy'))\n",
    "train_labels = np.load(('../data/' + DIGITS + 'rmnist.labels.train.npy'))\n",
    "val_imgs = np.load(('../data/' + DIGITS + 'rmnist.digits.validation.npy'))\n",
    "val_labels = np.load(('../data/' + DIGITS + 'rmnist.labels.validation.npy'))\n",
    "test_imgs = np.load(('../data/' + DIGITS + 'rmnist.digits.test.npy'))\n",
    "test_labels = np.load(('../data/' + DIGITS + 'rmnist.labels.test.npy'))"
   ]
  },
  {
   "cell_type": "code",
   "execution_count": null,
   "metadata": {
    "code_folding": []
   },
   "outputs": [],
   "source": [
    "class VAE2D(VAE):\n",
    "    def __init__(self, \n",
    "                 input_dim= 28**2,\n",
    "                 z_dims=[10, 9],\n",
    "                 encoder_mlp_h=[100],\n",
    "                 latents = ['gaussian', 'gaussian'],\n",
    "                 decoder_mlp_h=[100]):\n",
    "        super(VAE2D, self).__init__()\n",
    "\n",
    "        self.encoder_mlp_h = encoder_mlp_h.copy()\n",
    "        self.encoder_mlp_h.insert(0, input_dim)\n",
    "        self.encoder = MLP(self.encoder_mlp_h)\n",
    "        self.z_dims = z_dims\n",
    "        \n",
    "        self.reparameterize = []\n",
    "        self.r_callback = []\n",
    "        for i, (l, z) in enumerate(zip(latents, z_dims)):\n",
    "            # no callback needed\n",
    "            self.r_callback.append(lambda x : x)\n",
    "            \n",
    "            if l == 'gaussian':\n",
    "                reparam = Nreparameterize(encoder_mlp_h[-1], z)\n",
    "            elif l == 'so3':\n",
    "                assert z == 9 #the 3x3 lie group element will be concatenated \n",
    "                reparam_g = N0reparameterize(encoder_mlp_h[-1], 3)\n",
    "                reparam = SO3reparameterize(reparam_g, k=10)\n",
    "            else:\n",
    "                print ('!!! please specify latent')\n",
    "                raise RuntimeError \n",
    "                \n",
    "            self.add_module(('latent%d' % i),reparam)\n",
    "            self.reparameterize.append(reparam)\n",
    "\n",
    "        z_dim_out = sum(z_dims)\n",
    "        self.decoder_mlp_h = decoder_mlp_h.copy()\n",
    "        self.decoder_mlp_h.insert(0, z_dim_out)\n",
    "        self.decoder_mlp_h.append(input_dim)\n",
    "        self.decoder = MLP(self.decoder_mlp_h)\n",
    "        \n",
    "    def recon_loss(self, x_recon, x):\n",
    "        x = x.expand_as(x_recon)\n",
    "        max_val = (-x_recon).clamp(min=0)\n",
    "        loss = x_recon - x_recon * x + max_val + ((-max_val).exp() + \\\n",
    "                                               (-x_recon - max_val).exp()).log()        \n",
    "        return loss.sum(-1).sum(0)"
   ]
  },
  {
   "cell_type": "code",
   "execution_count": null,
   "metadata": {},
   "outputs": [],
   "source": [
    "vae = VAE2D(input_dim= 28**2,\n",
    "            z_dims=[9],\n",
    "            encoder_mlp_h=[256, 128],\n",
    "            latents = ['so3'],\n",
    "            decoder_mlp_h=[128])\n",
    "\n",
    "print(\"#params\", sum([x.numel() for x in vae.parameters()]))\n",
    "\n",
    "if torch.cuda.is_available():\n",
    "    vae.cuda(FLAGS.gpu)\n",
    "\n",
    "optimizer = torch.optim.Adam(vae.parameters(), lr=FLAGS.learning_rate)"
   ]
  },
  {
   "cell_type": "code",
   "execution_count": null,
   "metadata": {
    "code_folding": [],
    "scrolled": true
   },
   "outputs": [],
   "source": [
    "epoch_size = ((train_labels.shape[0]) // FLAGS.batch_dim)\n",
    "max_it = int(FLAGS.epochs * epoch_size)\n",
    "\n",
    "for epoch in range(100):#range(FLAGS.epochs):\n",
    "    print ('\\nepoch: %d/%d' % (epoch+1, FLAGS.epochs))\n",
    "    ave_epoch_loss = []\n",
    "    for i in range(max_it):\n",
    "        optimizer.zero_grad()\n",
    "        \n",
    "        idx = np.random.choice(train_labels.shape[0], FLAGS.batch_dim, replace=True)\n",
    "        x_mb = train_imgs[idx]\n",
    "        x_mb = x_mb > np.random.uniform(size=x_mb.shape)\n",
    "        y_mb = train_labels[idx]\n",
    "        \n",
    "        images = n2p(x_mb)\n",
    "        labels = n2p(y_mb)\n",
    "\n",
    "        if torch.cuda.is_available():\n",
    "            images = images.cuda(FLAGS.gpu)\n",
    "            labels = labels.cuda(FLAGS.gpu)\n",
    "        \n",
    "        rec, kl = vae.elbo(images, n=1)\n",
    "        kl_w = 1. * float(np.minimum(0., i / (max_it)))\n",
    "        elbo = rec.mean() + kl_w * kl.mean()\n",
    "        ave_epoch_loss.append(rec.cpu().data.numpy().mean())\n",
    "        elbo.backward()\n",
    "\n",
    "        optimizer.step()\n",
    "        \n",
    "        print('\\r it: %d/%d \\t rec: %4.3f \\t kl: %4.3f' % \n",
    "              (i, epoch_size, rec.cpu().data.numpy().mean(), kl.cpu().data.numpy().mean()), end='')\n",
    "        #print(vae.reparameterize[0].reparameterize.sigma.cpu().max().data.numpy())\n",
    "        \n",
    "        \n",
    "    print ('\\r ave elbo: %4.3f\\n' % (np.asarray(ave_epoch_loss).mean()), end='')"
   ]
  },
  {
   "cell_type": "code",
   "execution_count": null,
   "metadata": {
    "code_folding": []
   },
   "outputs": [],
   "source": [
    "b = 16\n",
    "idx = np.random.randint(0,b)\n",
    "plt.imshow(images[idx,:].cpu().data.numpy().reshape(28,28), cmap=\"gray\")\n",
    "plt.show()\n",
    "plt.imshow(F.sigmoid(vae(images)[0, idx, :]).cpu().data.numpy().reshape(28,28), cmap=\"gray\")\n",
    "plt.show()"
   ]
  },
  {
   "cell_type": "code",
   "execution_count": null,
   "metadata": {},
   "outputs": [],
   "source": [
    "c = np.random.normal(0,1,(1,1,3))\n",
    "n = 20\n",
    "cs = np.tile(c, (1,n,1))"
   ]
  },
  {
   "cell_type": "code",
   "execution_count": null,
   "metadata": {
    "scrolled": false
   },
   "outputs": [],
   "source": [
    "cs[0, :, 1] = cs[0, :, 1] + np.linspace(0,2,n)\n",
    "\n",
    "comp = 'so3'\n",
    "for i in range(cs.shape[1]):\n",
    "    c = cs[0,i,:]\n",
    "    c = c[np.newaxis, np.newaxis, :]\n",
    "    if comp == 'so3':\n",
    "        #c = np.random.normal(0,1,(1,1,3))\n",
    "        z = SO3reparameterize._expmap_rodrigues(n2p(c))\n",
    "        z = z.view(*z.size()[:-2],-1)\n",
    "        xz = vae.decode(z.cuda())\n",
    "    elif comp == 'mix':\n",
    "        c1 = n2p(np.random.normal(0,1,(1,1, vae.z_dims[0])))\n",
    "        c2 = np.random.normal(0,1,(1,1,3))\n",
    "        c2 = SO3reparameterize._expmap_rodrigues(n2p(c2))\n",
    "        c2 = c2.view(*c2.size()[:-2],-1)\n",
    "        z = torch.cat([c1,c2], -1)\n",
    "        xz = vae.decode(z.cuda())\n",
    "    else:\n",
    "        c = np.random.normal(0,1,(1,1,vae.z_dims[0]))\n",
    "        xz = vae.decode(n2p(c).cuda())\n",
    "\n",
    "    plt.imshow(F.sigmoid(xz[0,0,:]).cpu().data.numpy().reshape(28,28), cmap=\"gray\")\n",
    "    plt.show()"
   ]
  },
  {
   "cell_type": "code",
   "execution_count": null,
   "metadata": {},
   "outputs": [],
   "source": [
    "vae.log_likelihood(images.cuda(FLAGS.gpu), n=2)"
   ]
  },
  {
   "cell_type": "code",
   "execution_count": null,
   "metadata": {},
   "outputs": [],
   "source": [
    "c0 = np.random.normal(0,1,(1, 1, 10))\n",
    "z1 = n2p(c0)\n",
    "z1.size()\n",
    "c1 = np.random.normal(0,1,(1, 1, 3))"
   ]
  },
  {
   "cell_type": "code",
   "execution_count": null,
   "metadata": {},
   "outputs": [],
   "source": [
    "c1 = c1 + np.random.normal(0,0.3,(1, 1, 3))\n",
    "z2 = SO3reparameterize._expmap_rodrigues(n2p(c1))\n",
    "z2.size()\n",
    "\n",
    "# c2 = np.random.normal(0,1,(1, 1, 3))\n",
    "# z2 = SO3reparameterize._expmap_rodrigues(n2p(c2))\n",
    "# z2.size()\n",
    "\n",
    "z = torch.cat([z1, z2.view(*z2.size()[:-2], -1)],-1)\n",
    "z.size()\n",
    "s = vae.decode(z.cuda())\n",
    "print(s.size())\n",
    "plt.imshow(s[0,0,0].cpu().data.numpy(), cmap=\"gray\")"
   ]
  },
  {
   "cell_type": "code",
   "execution_count": null,
   "metadata": {},
   "outputs": [],
   "source": [
    "vae.reparameterize"
   ]
  },
  {
   "cell_type": "code",
   "execution_count": null,
   "metadata": {},
   "outputs": [],
   "source": []
  }
 ],
 "metadata": {
  "kernelspec": {
   "display_name": "Python 3",
   "language": "python",
   "name": "python3"
  },
  "language_info": {
   "codemirror_mode": {
    "name": "ipython",
    "version": 3
   },
   "file_extension": ".py",
   "mimetype": "text/x-python",
   "name": "python",
   "nbconvert_exporter": "python",
   "pygments_lexer": "ipython3",
   "version": "3.6.3"
  }
 },
 "nbformat": 4,
 "nbformat_minor": 2
}
